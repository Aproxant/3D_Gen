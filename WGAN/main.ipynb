{
 "cells": [
  {
   "cell_type": "code",
   "execution_count": 1,
   "metadata": {},
   "outputs": [
    {
     "name": "stdout",
     "output_type": "stream",
     "text": [
      "cpu\n"
     ]
    }
   ],
   "source": [
    "import pandas as pd\n",
    "import numpy as np\n",
    "from tqdm import tqdm\n",
    "from torch.utils.data import DataLoader\n",
    "import torch\n",
    "import trimesh\n",
    "from functools import partial\n",
    "import ssl\n",
    "import pickle\n",
    "from config import cfg\n",
    "from Script.vizualizer import vizualizer_stanford_data\n",
    "\n",
    "if torch.backends.mps.is_available():\n",
    "    device = torch.device(\"mps\")\n",
    "elif torch.cuda.is_available():\n",
    "    device=torch.device(\"cuda\")\n",
    "else:\n",
    "    device=torch.device(\"cpu\")\n",
    "\n",
    "from DataLoader.GANloader import GANLoader,check_dataset,collate_embedding\n",
    "\n",
    "device=cfg.DEVICE\n",
    "print(device)\n",
    "PYTORCH_ENABLE_MPS_FALLBACK=1\n",
    "#for mac os fix \n",
    "ssl._create_default_https_context = ssl._create_unverified_context"
   ]
  },
  {
   "cell_type": "code",
   "execution_count": 2,
   "metadata": {},
   "outputs": [],
   "source": [
    "train_dataset = GANLoader(cfg.GAN_VOXEL_FOLDER,'train')\n",
    "\n",
    "val_dataset = GANLoader(cfg.GAN_VOXEL_FOLDER,'val')\n",
    "\n",
    "test_dataset=GANLoader(cfg.GAN_VOXEL_FOLDER,'test')\n",
    "\n",
    "dataloader = {\n",
    "            'train': DataLoader(\n",
    "                train_dataset, \n",
    "                batch_size=cfg.GAN_BATCH_SIZE,              \n",
    "                drop_last=check_dataset(train_dataset, cfg.GAN_BATCH_SIZE),\n",
    "                collate_fn=collate_embedding,\n",
    "                num_workers=4\n",
    "            ),\n",
    "            'val': DataLoader(\n",
    "                val_dataset, \n",
    "                batch_size=cfg.GAN_BATCH_SIZE,\n",
    "                collate_fn=collate_embedding,\n",
    "                num_workers=4\n",
    "            ),\n",
    "            'test': DataLoader(\n",
    "                test_dataset, \n",
    "                batch_size=cfg.GAN_BATCH_SIZE,\n",
    "                collate_fn=collate_embedding\n",
    "                #num_workers=2\n",
    "            )\n",
    "    }  \n"
   ]
  }
 ],
 "metadata": {
  "kernelspec": {
   "display_name": "Python 3",
   "language": "python",
   "name": "python3"
  },
  "language_info": {
   "codemirror_mode": {
    "name": "ipython",
    "version": 3
   },
   "file_extension": ".py",
   "mimetype": "text/x-python",
   "name": "python",
   "nbconvert_exporter": "python",
   "pygments_lexer": "ipython3",
   "version": "3.11.4"
  },
  "orig_nbformat": 4
 },
 "nbformat": 4,
 "nbformat_minor": 2
}
