{
 "cells": [
  {
   "cell_type": "code",
   "execution_count": 1,
   "metadata": {},
   "outputs": [],
   "source": [
    "import sys\n",
    "sys.path.append('./../../3D_Gen/')\n",
    "from Encoder.dataEmbedding.dataEmbedding import Read_Load_BuildBatch\n",
    "\n",
    "import pandas as pd\n",
    "import numpy as np\n",
    "from tqdm import tqdm\n",
    "from torch.utils.data import DataLoader\n",
    "from Models.Generator import Generator32_Small\n",
    "\n",
    "import torch\n",
    "import trimesh\n",
    "from trimesh import voxel\n",
    "from functools import partial\n",
    "import ssl\n",
    "import os\n",
    "import pickle\n",
    "\n",
    "from config import cfg\n",
    "import torch.optim as optim\n",
    "import nrrd\n",
    "import random\n",
    "from Script.scripts import augment_voxel_tensor,sample_z,vizualizer_stanford_data,evaluateShape,vizualizer_stanford_data,loadOneElem,evalTestSet\n",
    "import point_cloud_utils as pcu\n"
   ]
  },
  {
   "cell_type": "markdown",
   "metadata": {},
   "source": [
    "Trening"
   ]
  },
  {
   "cell_type": "code",
   "execution_count": 8,
   "metadata": {},
   "outputs": [
    {
     "ename": "EOFError",
     "evalue": "Ran out of input",
     "output_type": "error",
     "traceback": [
      "\u001b[1;31m---------------------------------------------------------------------------\u001b[0m",
      "\u001b[1;31mEOFError\u001b[0m                                  Traceback (most recent call last)",
      "\u001b[1;32mc:\\Users\\michalBrysiak\\Desktop\\3DGen\\3D_Gen\\WGAN\\experiments.ipynb Cell 3\u001b[0m line \u001b[0;36m2\n\u001b[0;32m      <a href='vscode-notebook-cell:/c%3A/Users/michalBrysiak/Desktop/3DGen/3D_Gen/WGAN/experiments.ipynb#W2sZmlsZQ%3D%3D?line=0'>1</a>\u001b[0m \u001b[39mwith\u001b[39;00m \u001b[39mopen\u001b[39m(os\u001b[39m.\u001b[39mpath\u001b[39m.\u001b[39mjoin(\u001b[39mgetattr\u001b[39m(cfg,\u001b[39m\"\u001b[39m\u001b[39mGAN_INFO_DATA\u001b[39m\u001b[39m\"\u001b[39m),\u001b[39m'\u001b[39m\u001b[39mGAN_data.pkl\u001b[39m\u001b[39m'\u001b[39m), \u001b[39m'\u001b[39m\u001b[39mrb\u001b[39m\u001b[39m'\u001b[39m) \u001b[39mas\u001b[39;00m pickle_file:\n\u001b[1;32m----> <a href='vscode-notebook-cell:/c%3A/Users/michalBrysiak/Desktop/3DGen/3D_Gen/WGAN/experiments.ipynb#W2sZmlsZQ%3D%3D?line=1'>2</a>\u001b[0m     tmp0\u001b[39m=\u001b[39mpickle\u001b[39m.\u001b[39;49mload(pickle_file)\n",
      "\u001b[1;31mEOFError\u001b[0m: Ran out of input"
     ]
    }
   ],
   "source": [
    "with open(os.path.join(getattr(cfg,\"GAN_INFO_DATA\"),'GAN_data.pkl'), 'rb') as pickle_file:\n",
    "    tmp0=pickle.load(pickle_file)"
   ]
  },
  {
   "cell_type": "code",
   "execution_count": null,
   "metadata": {},
   "outputs": [
    {
     "ename": "FileNotFoundError",
     "evalue": "[Errno 2] No such file or directory: './../InfoData/GAN_data8_9.pkl'",
     "output_type": "error",
     "traceback": [
      "\u001b[0;31m---------------------------------------------------------------------------\u001b[0m",
      "\u001b[0;31mFileNotFoundError\u001b[0m                         Traceback (most recent call last)",
      "\u001b[1;32m/Users/brysiakp/szkola/3D_Gen/WGAN/experiments.ipynb Cell 4\u001b[0m line \u001b[0;36m1\n\u001b[0;32m----> <a href='vscode-notebook-cell:/Users/brysiakp/szkola/3D_Gen/WGAN/experiments.ipynb#W4sZmlsZQ%3D%3D?line=0'>1</a>\u001b[0m \u001b[39mwith\u001b[39;00m \u001b[39mopen\u001b[39;49m(os\u001b[39m.\u001b[39;49mpath\u001b[39m.\u001b[39;49mjoin(\u001b[39mgetattr\u001b[39;49m(cfg,\u001b[39m\"\u001b[39;49m\u001b[39mGAN_INFO_DATA\u001b[39;49m\u001b[39m\"\u001b[39;49m),\u001b[39m'\u001b[39;49m\u001b[39mGAN_data8_9.pkl\u001b[39;49m\u001b[39m'\u001b[39;49m), \u001b[39m'\u001b[39;49m\u001b[39mrb\u001b[39;49m\u001b[39m'\u001b[39;49m) \u001b[39mas\u001b[39;00m pickle_file:\n\u001b[1;32m      <a href='vscode-notebook-cell:/Users/brysiakp/szkola/3D_Gen/WGAN/experiments.ipynb#W4sZmlsZQ%3D%3D?line=1'>2</a>\u001b[0m     tmp2\u001b[39m=\u001b[39mpickle\u001b[39m.\u001b[39mload(pickle_file)\n",
      "File \u001b[0;32m~/Library/Python/3.11/lib/python/site-packages/IPython/core/interactiveshell.py:284\u001b[0m, in \u001b[0;36m_modified_open\u001b[0;34m(file, *args, **kwargs)\u001b[0m\n\u001b[1;32m    277\u001b[0m \u001b[39mif\u001b[39;00m file \u001b[39min\u001b[39;00m {\u001b[39m0\u001b[39m, \u001b[39m1\u001b[39m, \u001b[39m2\u001b[39m}:\n\u001b[1;32m    278\u001b[0m     \u001b[39mraise\u001b[39;00m \u001b[39mValueError\u001b[39;00m(\n\u001b[1;32m    279\u001b[0m         \u001b[39mf\u001b[39m\u001b[39m\"\u001b[39m\u001b[39mIPython won\u001b[39m\u001b[39m'\u001b[39m\u001b[39mt let you open fd=\u001b[39m\u001b[39m{\u001b[39;00mfile\u001b[39m}\u001b[39;00m\u001b[39m by default \u001b[39m\u001b[39m\"\u001b[39m\n\u001b[1;32m    280\u001b[0m         \u001b[39m\"\u001b[39m\u001b[39mas it is likely to crash IPython. If you know what you are doing, \u001b[39m\u001b[39m\"\u001b[39m\n\u001b[1;32m    281\u001b[0m         \u001b[39m\"\u001b[39m\u001b[39myou can use builtins\u001b[39m\u001b[39m'\u001b[39m\u001b[39m open.\u001b[39m\u001b[39m\"\u001b[39m\n\u001b[1;32m    282\u001b[0m     )\n\u001b[0;32m--> 284\u001b[0m \u001b[39mreturn\u001b[39;00m io_open(file, \u001b[39m*\u001b[39;49margs, \u001b[39m*\u001b[39;49m\u001b[39m*\u001b[39;49mkwargs)\n",
      "\u001b[0;31mFileNotFoundError\u001b[0m: [Errno 2] No such file or directory: './../InfoData/GAN_data8_9.pkl'"
     ]
    }
   ],
   "source": [
    "with open(os.path.join(getattr(cfg,\"GAN_INFO_DATA\"),'GAN_data8_9.pkl'), 'rb') as pickle_file:\n",
    "    tmp2=pickle.load(pickle_file)"
   ]
  },
  {
   "cell_type": "code",
   "execution_count": 19,
   "metadata": {},
   "outputs": [
    {
     "data": {
      "text/plain": [
       "24"
      ]
     },
     "execution_count": 19,
     "metadata": {},
     "output_type": "execute_result"
    }
   ],
   "source": [
    "len(tmp2['val_gen_loss'])"
   ]
  },
  {
   "cell_type": "code",
   "execution_count": 14,
   "metadata": {},
   "outputs": [],
   "source": [
    "infoData={'train_gen_loss':[],\n",
    "          'train_crit_loss':[],\n",
    "          'val_gen_loss':[],\n",
    "          'val_crit_loss':[]\n",
    "          }"
   ]
  },
  {
   "cell_type": "code",
   "execution_count": 37,
   "metadata": {},
   "outputs": [],
   "source": [
    "infoData['train_crit_loss'].append(sum(tmp2['train_disc_loss'][:1800])/len(tmp2['train_disc_loss'][:1800]))\n",
    "infoData['train_gen_loss'].append(sum(tmp2['train_gen_loss'][:1800])/len(tmp2['train_gen_loss'][:1800]))\n",
    "infoData['val_crit_loss'].append(tmp2['val_disc_loss'][11])\n",
    "infoData['val_gen_loss'].append(tmp2['val_gen_loss'][11])\n",
    "\n",
    "infoData['train_crit_loss'].append(sum(tmp2['train_disc_loss'][1800:])/len(tmp2['train_disc_loss'][1800:]))\n",
    "infoData['train_gen_loss'].append(sum(tmp2['train_gen_loss'][1800:])/len(tmp2['train_gen_loss'][1800:]))\n",
    "infoData['val_crit_loss'].append(tmp2['val_disc_loss'][23])\n",
    "infoData['val_gen_loss'].append(tmp2['val_gen_loss'][23])"
   ]
  },
  {
   "cell_type": "code",
   "execution_count": 5,
   "metadata": {},
   "outputs": [
    {
     "ename": "NameError",
     "evalue": "name 'infoData' is not defined",
     "output_type": "error",
     "traceback": [
      "\u001b[0;31m---------------------------------------------------------------------------\u001b[0m",
      "\u001b[0;31mNameError\u001b[0m                                 Traceback (most recent call last)",
      "\u001b[1;32m/Users/brysiakp/szkola/3D_Gen/WGAN/experiments.ipynb Cell 9\u001b[0m line \u001b[0;36m2\n\u001b[1;32m      <a href='vscode-notebook-cell:/Users/brysiakp/szkola/3D_Gen/WGAN/experiments.ipynb#X12sZmlsZQ%3D%3D?line=0'>1</a>\u001b[0m \u001b[39mwith\u001b[39;00m \u001b[39mopen\u001b[39m(os\u001b[39m.\u001b[39mpath\u001b[39m.\u001b[39mjoin(\u001b[39mgetattr\u001b[39m(cfg,\u001b[39m\"\u001b[39m\u001b[39mGAN_INFO_DATA\u001b[39m\u001b[39m\"\u001b[39m),\u001b[39m'\u001b[39m\u001b[39mGAN_data.pkl\u001b[39m\u001b[39m'\u001b[39m), \u001b[39m'\u001b[39m\u001b[39mwb\u001b[39m\u001b[39m'\u001b[39m) \u001b[39mas\u001b[39;00m pickle_file:\n\u001b[0;32m----> <a href='vscode-notebook-cell:/Users/brysiakp/szkola/3D_Gen/WGAN/experiments.ipynb#X12sZmlsZQ%3D%3D?line=1'>2</a>\u001b[0m     pickle\u001b[39m.\u001b[39mdump(infoData,pickle_file)\n",
      "\u001b[0;31mNameError\u001b[0m: name 'infoData' is not defined"
     ]
    }
   ],
   "source": [
    "with open(os.path.join(getattr(cfg,\"GAN_INFO_DATA\"),'GAN_data.pkl'), 'wb') as pickle_file:\n",
    "    pickle.dump(infoData,pickle_file)"
   ]
  },
  {
   "cell_type": "code",
   "execution_count": 4,
   "metadata": {},
   "outputs": [
    {
     "ename": "NameError",
     "evalue": "name 'infoData' is not defined",
     "output_type": "error",
     "traceback": [
      "\u001b[0;31m---------------------------------------------------------------------------\u001b[0m",
      "\u001b[0;31mNameError\u001b[0m                                 Traceback (most recent call last)",
      "\u001b[1;32m/Users/brysiakp/szkola/3D_Gen/WGAN/experiments.ipynb Cell 10\u001b[0m line \u001b[0;36m5\n\u001b[1;32m      <a href='vscode-notebook-cell:/Users/brysiakp/szkola/3D_Gen/WGAN/experiments.ipynb#X13sZmlsZQ%3D%3D?line=0'>1</a>\u001b[0m \u001b[39mfrom\u001b[39;00m \u001b[39mmatplotlib\u001b[39;00m\u001b[39m.\u001b[39;00m\u001b[39mpylab\u001b[39;00m \u001b[39mimport\u001b[39;00m plt\n\u001b[1;32m      <a href='vscode-notebook-cell:/Users/brysiakp/szkola/3D_Gen/WGAN/experiments.ipynb#X13sZmlsZQ%3D%3D?line=1'>2</a>\u001b[0m \u001b[39mfrom\u001b[39;00m \u001b[39mnumpy\u001b[39;00m \u001b[39mimport\u001b[39;00m arange\n\u001b[0;32m----> <a href='vscode-notebook-cell:/Users/brysiakp/szkola/3D_Gen/WGAN/experiments.ipynb#X13sZmlsZQ%3D%3D?line=4'>5</a>\u001b[0m epochs \u001b[39m=\u001b[39m \u001b[39mrange\u001b[39m(\u001b[39m0\u001b[39m, \u001b[39mlen\u001b[39m(infoData[\u001b[39m'\u001b[39m\u001b[39mtrain_gen_loss\u001b[39m\u001b[39m'\u001b[39m]))\n\u001b[1;32m      <a href='vscode-notebook-cell:/Users/brysiakp/szkola/3D_Gen/WGAN/experiments.ipynb#X13sZmlsZQ%3D%3D?line=6'>7</a>\u001b[0m plt\u001b[39m.\u001b[39mplot(\u001b[39mrange\u001b[39m(\u001b[39m0\u001b[39m,\u001b[39mlen\u001b[39m(infoData[\u001b[39m'\u001b[39m\u001b[39mtrain_gen_loss\u001b[39m\u001b[39m'\u001b[39m])), infoData[\u001b[39m'\u001b[39m\u001b[39mtrain_gen_loss\u001b[39m\u001b[39m'\u001b[39m], label\u001b[39m=\u001b[39m\u001b[39m'\u001b[39m\u001b[39mGenerator Loss\u001b[39m\u001b[39m'\u001b[39m)\n\u001b[1;32m      <a href='vscode-notebook-cell:/Users/brysiakp/szkola/3D_Gen/WGAN/experiments.ipynb#X13sZmlsZQ%3D%3D?line=7'>8</a>\u001b[0m plt\u001b[39m.\u001b[39mplot(\u001b[39mrange\u001b[39m(\u001b[39m0\u001b[39m,\u001b[39mlen\u001b[39m(infoData[\u001b[39m'\u001b[39m\u001b[39mtrain_gen_loss\u001b[39m\u001b[39m'\u001b[39m])), infoData[\u001b[39m'\u001b[39m\u001b[39mtrain_crit_loss\u001b[39m\u001b[39m'\u001b[39m], label\u001b[39m=\u001b[39m\u001b[39m'\u001b[39m\u001b[39mCritic Loss\u001b[39m\u001b[39m'\u001b[39m)\n",
      "\u001b[0;31mNameError\u001b[0m: name 'infoData' is not defined"
     ]
    }
   ],
   "source": [
    "from matplotlib.pylab import plt\n",
    "from numpy import arange\n",
    "\n",
    "\n",
    "epochs = range(0, len(infoData['train_gen_loss']))\n",
    " \n",
    "plt.plot(range(0,len(infoData['train_gen_loss'])), infoData['train_gen_loss'], label='Generator Loss')\n",
    "plt.plot(range(0,len(infoData['train_gen_loss'])), infoData['train_crit_loss'], label='Critic Loss')\n",
    " \n",
    "# Add in a title and axes labels\n",
    "plt.title('Training cWGAN Loss')\n",
    "plt.xlabel('Epochs')\n",
    "plt.ylabel('Loss')\n",
    " \n",
    "# Set the tick locations\n",
    "plt.xticks(arange(0, len(infoData['train_gen_loss']), 1))\n",
    " \n",
    "# Display the plot\n",
    "plt.legend(loc='best')\n",
    "plt.show()"
   ]
  },
  {
   "cell_type": "code",
   "execution_count": 42,
   "metadata": {},
   "outputs": [
    {
     "data": {
      "image/png": "[encoded data removed]",
      "text/plain": [
       "<Figure size 640x480 with 1 Axes>"
      ]
     },
     "metadata": {},
     "output_type": "display_data"
    }
   ],
   "source": [
    "epochs = range(0, len(infoData['train_gen_loss']))\n",
    " \n",
    "plt.plot(range(0,len(infoData['val_gen_loss'])), infoData['val_gen_loss'], label='Generator Loss')\n",
    "plt.plot(range(0,len(infoData['val_crit_loss'])), infoData['val_crit_loss'], label='Critic Loss')\n",
    " \n",
    "# Add in a title and axes labels\n",
    "plt.title('Validation cWGAN Loss')\n",
    "plt.xlabel('Epochs')\n",
    "plt.ylabel('Loss')\n",
    " \n",
    "# Set the tick locations\n",
    "plt.xticks(arange(0, len(infoData['train_gen_loss']), 1))\n",
    " \n",
    "# Display the plot\n",
    "plt.legend(loc='best')\n",
    "plt.show()"
   ]
  },
  {
   "cell_type": "markdown",
   "metadata": {},
   "source": [
    "Testy"
   ]
  },
  {
   "cell_type": "code",
   "execution_count": 2,
   "metadata": {},
   "outputs": [],
   "source": [
    "with open(getattr(cfg,\"GAN_TEST_SPLIT\"), 'rb') as pickle_file:\n",
    "    tmp=pickle.load(pickle_file)"
   ]
  },
  {
   "cell_type": "code",
   "execution_count": 3,
   "metadata": {},
   "outputs": [
    {
     "data": {
      "text/plain": [
       "Generator32_Small(\n",
       "  (fc1): Sequential(\n",
       "    (0): Linear(in_features=160, out_features=8192, bias=True)\n",
       "    (1): BatchNorm1d(8192, eps=1e-05, momentum=0.1, affine=True, track_running_stats=True)\n",
       "  )\n",
       "  (conv3): Sequential(\n",
       "    (0): ConvTranspose3d(128, 128, kernel_size=(4, 4, 4), stride=(2, 2, 2), padding=(1, 1, 1))\n",
       "    (1): BatchNorm3d(128, eps=1e-05, momentum=0.1, affine=True, track_running_stats=True)\n",
       "  )\n",
       "  (conv4): Sequential(\n",
       "    (0): ConvTranspose3d(128, 64, kernel_size=(4, 4, 4), stride=(2, 2, 2), padding=(1, 1, 1))\n",
       "    (1): BatchNorm3d(64, eps=1e-05, momentum=0.1, affine=True, track_running_stats=True)\n",
       "  )\n",
       "  (conv5): Sequential(\n",
       "    (0): ConvTranspose3d(64, 1, kernel_size=(4, 4, 4), stride=(2, 2, 2), padding=(1, 1, 1))\n",
       "  )\n",
       ")"
      ]
     },
     "execution_count": 3,
     "metadata": {},
     "output_type": "execute_result"
    }
   ],
   "source": [
    "\n",
    "device=cfg.DEVICE\n",
    "#print(device)\n",
    "PYTORCH_ENABLE_MPS_FALLBACK=1\n",
    "#for mac os fix \n",
    "ssl._create_default_https_context = ssl._create_unverified_context\n",
    "\n",
    "torch.manual_seed(cfg.SEED)\n",
    "np.random.seed(cfg.SEED)\n",
    "\n",
    "generator=Generator32_Small()\n",
    "generator.load_state_dict(torch.load(os.path.join('./../SavedModels',\"generator_model.pth\"),map_location=torch.device('cpu')))\n",
    "generator=generator.to(cfg.DEVICE)\n",
    "generator.eval()"
   ]
  },
  {
   "cell_type": "code",
   "execution_count": 4,
   "metadata": {},
   "outputs": [
    {
     "name": "stderr",
     "output_type": "stream",
     "text": [
      " 66%|██████▋   | 4940/7452 [02:16<01:06, 38.00it/s]"
     ]
    }
   ],
   "source": [
    "met=evalTestSet(tmp,generator)"
   ]
  },
  {
   "cell_type": "code",
   "execution_count": null,
   "metadata": {},
   "outputs": [],
   "source": [
    "with open('./../GANexp.pkl', 'wb') as pickle_file:\n",
    "    pickle.dump(met,pickle_file)"
   ]
  },
  {
   "cell_type": "markdown",
   "metadata": {},
   "source": [
    "Vizualization"
   ]
  },
  {
   "cell_type": "code",
   "execution_count": 42,
   "metadata": {},
   "outputs": [
    {
     "name": "stdout",
     "output_type": "stream",
     "text": [
      "it be a table this shape be rectangle and color be coffee color\n"
     ]
    }
   ],
   "source": [
    "idx=random.randint(0,len(tmp))\n",
    "k=loadOneElem(idx,tmp)\n",
    "p=generator(k[1].unsqueeze(0))\n",
    "p=p['sigmoid_output'].squeeze(0).detach()"
   ]
  },
  {
   "cell_type": "code",
   "execution_count": null,
   "metadata": {},
   "outputs": [],
   "source": [
    "vizualizer_stanford_data(p.cpu(),'fake')"
   ]
  },
  {
   "cell_type": "code",
   "execution_count": null,
   "metadata": {},
   "outputs": [],
   "source": [
    "vizualizer_stanford_data(k[2],'true')"
   ]
  }
 ],
 "metadata": {
  "kernelspec": {
   "display_name": "Python 3",
   "language": "python",
   "name": "python3"
  },
  "language_info": {
   "codemirror_mode": {
    "name": "ipython",
    "version": 3
   },
   "file_extension": ".py",
   "mimetype": "text/x-python",
   "name": "python",
   "nbconvert_exporter": "python",
   "pygments_lexer": "ipython3",
   "version": "3.11.0"
  }
 },
 "nbformat": 4,
 "nbformat_minor": 2
}
