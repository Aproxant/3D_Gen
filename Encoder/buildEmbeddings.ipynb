{
 "cells": [
  {
   "cell_type": "code",
   "execution_count": 1,
   "metadata": {},
   "outputs": [
    {
     "name": "stdout",
     "output_type": "stream",
     "text": [
      "cuda\n"
     ]
    }
   ],
   "source": [
    "from torch.utils.data import DataLoader\n",
    "import torch\n",
    "import ssl\n",
    "from Solvers import SolverEmbedding,Loss\n",
    "from scipy.stats import norm\n",
    "import os\n",
    "from Models.EncoderModels import TextEncoder\n",
    "from config import cfg\n",
    "from dataEmbedding.dataEmbedding import Read_Load_BuildBatch\n",
    "from dataEmbedding.generateEmbedding import build_embeedings_CWGAN, singleRun\n",
    "import matplotlib.pyplot as plt\n",
    "import numpy as np\n",
    "from scipy.spatial import cKDTree\n",
    "import pickle\n",
    "if torch.backends.mps.is_available():\n",
    "    device = torch.device(\"mps\")\n",
    "elif torch.cuda.is_available():\n",
    "    device=torch.device(\"cuda\")\n",
    "else:\n",
    "    device=torch.device(\"cpu\")\n",
    "\n",
    "device=cfg.DEVICE\n",
    "print(device)\n",
    "torch.manual_seed(cfg.SEED)\n",
    "np.random.seed(cfg.SEED)\n",
    "PYTORCH_ENABLE_MPS_FALLBACK=1\n",
    "#for mac os fix \n",
    "ssl._create_default_https_context = ssl._create_unverified_context"
   ]
  },
  {
   "cell_type": "code",
   "execution_count": 2,
   "metadata": {},
   "outputs": [],
   "source": [
    "stanData=Read_Load_BuildBatch(cfg.EMBEDDING_BATCH_SIZE)"
   ]
  },
  {
   "cell_type": "markdown",
   "metadata": {},
   "source": [
    "FOR EXPERIMENTS"
   ]
  },
  {
   "cell_type": "code",
   "execution_count": 3,
   "metadata": {},
   "outputs": [
    {
     "name": "stderr",
     "output_type": "stream",
     "text": [
      "100%|██████████| 30/30 [01:00<00:00,  2.03s/it]\n"
     ]
    }
   ],
   "source": [
    "#build_embeedings_CWGAN(os.path.join(cfg.EMBEDDING_TEXT_MODELS_PATH,'text_encoder.pth'),TextEncoder(len(stanData.dict_word2idx)),stanData.data_group_train,stanData.dict_word2idx,cfg.EMBEDDING_SAVE_PATH_TEST,'train','info')\n",
    "build_embeedings_CWGAN(os.path.join(cfg.EMBEDDING_TEXT_MODELS_PATH,'text_encoder.pth'),TextEncoder(len(stanData.dict_word2idx)),stanData.data_group_test,stanData.dict_word2idx,cfg.EMBEDDING_SAVE_PATH_TEST,'test','info')\n",
    "#build_embeedings_CWGAN(os.path.join(cfg.EMBEDDING_TEXT_MODELS_PATH,'text_encoder.pth'),TextEncoder(len(stanData.dict_word2idx)),stanData.data_group_val,stanData.dict_word2idx,cfg.EMBEDDING_SAVE_PATH_TEST,'val','info')"
   ]
  },
  {
   "cell_type": "markdown",
   "metadata": {},
   "source": [
    "FOR GAN"
   ]
  },
  {
   "cell_type": "code",
   "execution_count": 4,
   "metadata": {},
   "outputs": [
    {
     "name": "stderr",
     "output_type": "stream",
     "text": [
      "100%|██████████| 234/234 [00:33<00:00,  6.99it/s]\n",
      "100%|██████████| 30/30 [00:33<00:00,  1.12s/it]\n",
      "100%|██████████| 30/30 [00:04<00:00,  7.21it/s]\n"
     ]
    }
   ],
   "source": [
    "build_embeedings_CWGAN(os.path.join(cfg.EMBEDDING_TEXT_MODELS_PATH,'text_encoder.pth'),TextEncoder(len(stanData.dict_word2idx)),stanData.data_group_train,stanData.dict_word2idx,cfg.EMBEDDING_SAVE_PATH,'train','GAN')\n",
    "build_embeedings_CWGAN(os.path.join(cfg.EMBEDDING_TEXT_MODELS_PATH,'text_encoder.pth'),TextEncoder(len(stanData.dict_word2idx)),stanData.data_group_test,stanData.dict_word2idx,cfg.EMBEDDING_SAVE_PATH,'test','GAN')\n",
    "build_embeedings_CWGAN(os.path.join(cfg.EMBEDDING_TEXT_MODELS_PATH,'text_encoder.pth'),TextEncoder(len(stanData.dict_word2idx)),stanData.data_group_val,stanData.dict_word2idx,cfg.EMBEDDING_SAVE_PATH,'val','GAN')"
   ]
  }
 ],
 "metadata": {
  "kernelspec": {
   "display_name": "Python 3",
   "language": "python",
   "name": "python3"
  },
  "language_info": {
   "codemirror_mode": {
    "name": "ipython",
    "version": 3
   },
   "file_extension": ".py",
   "mimetype": "text/x-python",
   "name": "python",
   "nbconvert_exporter": "python",
   "pygments_lexer": "ipython3",
   "version": "3.11.4"
  }
 },
 "nbformat": 4,
 "nbformat_minor": 2
}
