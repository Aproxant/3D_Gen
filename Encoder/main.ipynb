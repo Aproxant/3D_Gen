{
 "cells": [
  {
   "cell_type": "code",
   "execution_count": 1,
   "metadata": {},
   "outputs": [
    {
     "name": "stdout",
     "output_type": "stream",
     "text": [
      "cpu\n"
     ]
    }
   ],
   "source": [
    "import pandas as pd\n",
    "import numpy as np\n",
    "from tqdm import tqdm\n",
    "from torch.utils.data import DataLoader, Dataset\n",
    "import torch\n",
    "import trimesh\n",
    "from functools import partial\n",
    "import ssl\n",
    "from Solvers import SolverEmbedding,Loss\n",
    "from Models.EncoderModels import TextEncoder, ShapeEncoder\n",
    "from config import cfg\n",
    "from dataEmbedding.dataEmbedding import Read_Load_BuildBatch\n",
    "from dataEmbedding.dataEmbeddingLoader import GenerateDataLoader,check_dataset,collate_embedding\n",
    "if torch.backends.mps.is_available():\n",
    "    device = torch.device(\"mps\")\n",
    "elif torch.cuda.is_available():\n",
    "    device=torch.device(\"cuda\")\n",
    "else:\n",
    "    device=torch.device(\"cpu\")\n",
    "\n",
    "device=cfg.DEVICE\n",
    "print(device)\n",
    "\n",
    "#for mac os fix \n",
    "ssl._create_default_https_context = ssl._create_unverified_context"
   ]
  },
  {
   "cell_type": "code",
   "execution_count": 2,
   "metadata": {},
   "outputs": [],
   "source": [
    "#primiData = Read_Load_BuildBatch('/primitives',batchSize,'primitives')\n",
    "stanData=Read_Load_BuildBatch(cfg.EMBEDDING_VOXEL_FOLDER,cfg.EMBEDDING_BATCH_SIZE)\n"
   ]
  },
  {
   "cell_type": "code",
   "execution_count": 3,
   "metadata": {},
   "outputs": [
    {
     "name": "stdout",
     "output_type": "stream",
     "text": [
      "Median of list is : 14.0\n",
      "Mean: 16.307937873199133\n"
     ]
    }
   ],
   "source": [
    "stanData.wordlens.sort()\n",
    "mid = len(stanData.wordlens) // 2\n",
    "res = (stanData.wordlens[mid] + stanData.wordlens[~mid]) / 2\n",
    "print(\"Median of list is : \" + str(res))\n",
    "print(\"Mean: \"+ str(sum(stanData.wordlens)/len(stanData.wordlens)))"
   ]
  },
  {
   "cell_type": "code",
   "execution_count": 3,
   "metadata": {},
   "outputs": [],
   "source": [
    "train_dataset = GenerateDataLoader(stanData.data_agg_train,stanData.data_dir,stanData.dict_word2idx,'train')\n",
    "\n",
    "val_dataset = GenerateDataLoader(stanData.data_agg_val,stanData.data_dir,stanData.dict_word2idx,'val')\n",
    "\n",
    "test_dataset=GenerateDataLoader(stanData.data_agg_test,stanData.data_dir,stanData.dict_word2idx,'test')\n",
    "\n",
    "dataloader = {\n",
    "            'train': DataLoader(\n",
    "                train_dataset, \n",
    "                batch_size=cfg.EMBEDDING_BATCH_SIZE * 2,              \n",
    "                drop_last=check_dataset(train_dataset, cfg.EMBEDDING_BATCH_SIZE * 2),\n",
    "                collate_fn=collate_embedding,\n",
    "                num_workers=4\n",
    "            ),\n",
    "            'val': DataLoader(\n",
    "                val_dataset, \n",
    "                batch_size=cfg.EMBEDDING_BATCH_SIZE*2,\n",
    "                collate_fn=collate_embedding,\n",
    "                num_workers=4\n",
    "            ),\n",
    "            'test': DataLoader(\n",
    "                test_dataset, \n",
    "                batch_size=cfg.EMBEDDING_BATCH_SIZE*2,\n",
    "                collate_fn=collate_embedding\n",
    "                #num_workers=2\n",
    "            )\n",
    "    }       \n"
   ]
  },
  {
   "cell_type": "code",
   "execution_count": null,
   "metadata": {},
   "outputs": [],
   "source": [
    "for iter,(_,labels,texts,_,shapes) in enumerate(dataloader['train']):\n",
    "    \n",
    "    batch_size = shapes.size(0)\n",
    "    texts = texts.to(device)\n",
    "    text_labels = labels.to(device)\n",
    "\n",
    "    shapes = shapes.to(device).index_select(0, torch.LongTensor([i * 2 for i in range(batch_size // 2)]).to(device))\n",
    "    shape_labels = labels.to(device).index_select(0, torch.LongTensor([i * 2 for i in range(batch_size // 2)]).to(device))\n",
    "        \n",
    "\n",
    "    #s = ShapeModel(shapes)\n",
    "    \n",
    "    print(texts)\n",
    "    #print(texts.shape)\n",
    "\n",
    "    if iter==5:\n",
    "      break"
   ]
  },
  {
   "cell_type": "code",
   "execution_count": 4,
   "metadata": {},
   "outputs": [],
   "source": [
    "criterion={\n",
    "        'walker': Loss.RoundTripLoss(device=device),\n",
    "        'visit': Loss.AssociationLoss(device=device),\n",
    "        #'metric': Loss.SmoothedMetricLoss(device=device)\n",
    "        'metric': Loss.InstanceMetricLoss()\n",
    "        }"
   ]
  },
  {
   "cell_type": "code",
   "execution_count": 5,
   "metadata": {},
   "outputs": [],
   "source": [
    "ShapeModel=ShapeEncoder()\n",
    "ShapeModel=ShapeModel.to(device)\n",
    "TextModel=TextEncoder(len(stanData.dict_word2idx))\n",
    "TextModel=TextModel.to(device)\n",
    "optimizer = torch.optim.Adam(list(ShapeModel.parameters()) + list(TextModel.parameters()), lr=cfg.EMBEDDING_LR, weight_decay=cfg.EMBEDDING_WEIGHT_DC)\n",
    "history=SolverEmbedding.Solver(TextModel,ShapeModel,dataloader,optimizer,criterion,cfg.EMBEDDING_BATCH_SIZE,device)"
   ]
  },
  {
   "cell_type": "code",
   "execution_count": 6,
   "metadata": {},
   "outputs": [
    {
     "name": "stdout",
     "output_type": "stream",
     "text": [
      "epoch [1/4] starting...\n",
      "\n"
     ]
    },
    {
     "name": "stderr",
     "output_type": "stream",
     "text": [
      "  0%|          | 0/944 [00:00<?, ?it/s]"
     ]
    },
    {
     "name": "stdout",
     "output_type": "stream",
     "text": [
      "77.17841339111328\n"
     ]
    },
    {
     "name": "stderr",
     "output_type": "stream",
     "text": [
      "  0%|          | 0/944 [00:21<?, ?it/s]\n",
      "100%|██████████| 114/114 [00:59<00:00,  1.92it/s]\n"
     ]
    },
    {
     "name": "stdout",
     "output_type": "stream",
     "text": [
      "evaluating...\n",
      "\n",
      "Number of embedding: 30674\n",
      "Number of shape embeddings: 1490, number of text embeddings: 29184\n",
      "Dimensionality of embedding: 128\n",
      "Evaluation mode: t2t\n",
      "\n",
      "min embedding val: -0.11785503476858139\n",
      "max embedding val: 0.10447129607200623\n",
      "mean embedding (abs) val: 0.038610791471488645\n",
      "Number of models : 1490\n",
      "\n",
      "Example model IDs:\n",
      "c356393b27c3fbca34ee3fb22432c207\n",
      "445528514535ca621d5ccc40b510e4bd\n",
      "66c791cf5f1e61a09753496ba23f2183\n",
      "780809a0d1b68f4a8ef4ac3a24abb05b\n",
      "cc3f1a06508f2ebd1aed2875db0a8711\n",
      "3aebb428c4f378174078a3e6d5ee40f4\n",
      "63f6ff0ad9cf9d17adb532bf77da46c2\n",
      "a98482ce1ac411406b2cda27b9d80e15\n",
      "4fe364b3390d3e158afe76b3d612e00b\n",
      "325d922d3092f7bfc3bd24f986301745\n",
      "\n",
      "Using unnormalized cosine distance\n",
      "Nearest neighbors on block 1\n",
      "Nearest neighbors on block 2\n",
      "Nearest neighbors on block 3\n",
      "Nearest neighbors on block 4\n",
      "Nearest neighbors on block 5\n",
      "Nearest neighbors on block 6\n",
      "Nearest neighbors on block 7\n",
      "Nearest neighbors on block 8\n",
      "Nearest neighbors on block 9\n",
      "Nearest neighbors on block 10\n",
      "Computing precision recall.\n",
      "     k: precision recall recall_rate ndcg\n",
      "pr @ 1: 0.00027412280701754384 1.3706140350877192e-05 0.00027412280701754384 0.00027412280701754384\n",
      "pr @ 2: 0.00027412280701754384 2.7412280701754383e-05 0.00027412280701754384 0.00027412280701754384\n",
      "pr @ 3: 0.00027412280701754384 4.111842105263158e-05 0.00027412280701754384 0.00027412280701754384\n",
      "pr @ 4: 0.00023985745614035086 4.797149122807016e-05 0.00027412280701754384 0.00025107901092775254\n",
      "pr @ 5: 0.000383771929824561 9.594298245614026e-05 0.0012335526315789473 0.0003440182343364857\n",
      "pr @ 6: 0.0005025584795321641 0.00015076754385964908 0.0013706140350877192 0.0004251266621335686\n",
      "pr @ 7: 0.0005874060150375941 0.00020559210526315805 0.0013706140350877192 0.0004866407387779841\n",
      "pr @ 8: 0.0006510416666666666 0.00026041666666666677 0.0015076754385964911 0.0005353034771631383\n",
      "pr @ 9: 0.0007043433235867437 0.00030667489035087706 0.0025013706140350877 0.0005774352143536088\n",
      "pr @ 10: 0.0007538377192982445 0.00035733865914786933 0.0026384320175438596 0.0006169979329578252\n",
      "pr @ 11: 0.0007600677830940988 0.0003961727234753547 0.0029125548245614035 0.0006288769628739186\n",
      "pr @ 12: 0.0007538377192982446 0.00043043807435254756 0.0030496162280701754 0.0006318713337854924\n",
      "pr @ 13: 0.0007432945344129541 0.00046127689014202134 0.003460800438596491 0.0006311310143170922\n",
      "pr @ 14: 0.0007391525689223052 0.0004955422410192142 0.003597861842105263 0.0006336022178109627\n",
      "pr @ 15: 0.0007264254385964905 0.0005229545217209687 0.003597861842105263 0.0006299615619496822\n",
      "pr @ 16: 0.0007238555372807017 0.0005572198725981617 0.003597861842105263 0.0006321791019025516\n",
      "pr @ 17: 0.0007034474974200192 0.0005726392804928986 0.003837719298245614 0.0006225326456423608\n",
      "pr @ 18: 0.0006853070175438586 0.0005880586883876351 0.003974780701754386 0.0006137470898987756\n",
      "pr @ 19: 0.0006726829409048932 0.0006074757205513778 0.004283168859649123 0.0006080311529447782\n",
      "pr @ 20: 0.0006647478070175432 0.0006331747337092728 0.0046943530701754384 0.0006049897078880923\n",
      "saving models...\n",
      "\n",
      "epoch [2/4] starting...\n",
      "\n"
     ]
    },
    {
     "name": "stderr",
     "output_type": "stream",
     "text": [
      "  0%|          | 0/944 [00:00<?, ?it/s]"
     ]
    },
    {
     "name": "stdout",
     "output_type": "stream",
     "text": [
      "78.42781829833984\n"
     ]
    },
    {
     "name": "stderr",
     "output_type": "stream",
     "text": [
      "  0%|          | 0/944 [00:21<?, ?it/s]\n",
      "  2%|▏         | 2/114 [00:01<00:59,  1.87it/s]\n"
     ]
    },
    {
     "ename": "KeyboardInterrupt",
     "evalue": "",
     "output_type": "error",
     "traceback": [
      "\u001b[0;31m---------------------------------------------------------------------------\u001b[0m",
      "\u001b[0;31mKeyboardInterrupt\u001b[0m                         Traceback (most recent call last)",
      "Cell \u001b[0;32mIn[6], line 1\u001b[0m\n\u001b[0;32m----> 1\u001b[0m history\u001b[39m.\u001b[39;49mtrain(cfg\u001b[39m.\u001b[39;49mEMBEDDING_EPOCH_NR,stanData\u001b[39m.\u001b[39;49mdict_idx2word)\n",
      "File \u001b[0;32m~/szkola/3D_Gen/Encoder/Solvers/SolverEmbedding.py:91\u001b[0m, in \u001b[0;36mSolver.train\u001b[0;34m(self, epoch, idx_word)\u001b[0m\n\u001b[1;32m     82\u001b[0m     \u001b[39mbreak\u001b[39;00m\n\u001b[1;32m     84\u001b[0m \u001b[39m# validate\u001b[39;00m\n\u001b[1;32m     85\u001b[0m \u001b[39m#val_log = self.validate(val_log)\u001b[39;00m\n\u001b[1;32m     86\u001b[0m \n\u001b[0;32m   (...)\u001b[0m\n\u001b[1;32m     89\u001b[0m \n\u001b[1;32m     90\u001b[0m \u001b[39m# evaluate\u001b[39;00m\n\u001b[0;32m---> 91\u001b[0m metrics_t2t \u001b[39m=\u001b[39m \u001b[39mself\u001b[39;49m\u001b[39m.\u001b[39;49mevaluate(\u001b[39mself\u001b[39;49m\u001b[39m.\u001b[39;49mshape_encoder, \u001b[39mself\u001b[39;49m\u001b[39m.\u001b[39;49mtext_encoder, idx_word)\n\u001b[1;32m     92\u001b[0m \u001b[39m# Check if we should terminate training\u001b[39;00m\n\u001b[1;32m     93\u001b[0m cur_eval_acc \u001b[39m=\u001b[39m metrics_t2t\u001b[39m.\u001b[39mprecision[\u001b[39m4\u001b[39m]  \u001b[39m# Precision @ 5\u001b[39;00m\n",
      "File \u001b[0;32m~/szkola/3D_Gen/Encoder/Solvers/SolverEmbedding.py:228\u001b[0m, in \u001b[0;36mSolver.evaluate\u001b[0;34m(self, shape_encoder, text_encoder, idx_word)\u001b[0m\n\u001b[1;32m    226\u001b[0m shape_encoder\u001b[39m.\u001b[39meval()\n\u001b[1;32m    227\u001b[0m text_encoder\u001b[39m.\u001b[39meval()\n\u001b[0;32m--> 228\u001b[0m embedding \u001b[39m=\u001b[39m \u001b[39mself\u001b[39;49m\u001b[39m.\u001b[39;49mbuild_embeedings_for_eval(idx_word,\u001b[39m'\u001b[39;49m\u001b[39mtest\u001b[39;49m\u001b[39m'\u001b[39;49m)\n\u001b[1;32m    230\u001b[0m \u001b[39mprint\u001b[39m(\u001b[39m\"\u001b[39m\u001b[39mevaluating...\u001b[39m\u001b[39m\"\u001b[39m)\n\u001b[1;32m    231\u001b[0m metrics \u001b[39m=\u001b[39m compute_metrics(embedding, mode\u001b[39m=\u001b[39m\u001b[39m'\u001b[39m\u001b[39mt2t\u001b[39m\u001b[39m'\u001b[39m, metric\u001b[39m=\u001b[39m\u001b[39m'\u001b[39m\u001b[39mcosine\u001b[39m\u001b[39m'\u001b[39m)\n",
      "File \u001b[0;32m~/szkola/3D_Gen/Encoder/Solvers/SolverEmbedding.py:236\u001b[0m, in \u001b[0;36mSolver.build_embeedings_for_eval\u001b[0;34m(self, idx_word, phase)\u001b[0m\n\u001b[1;32m    234\u001b[0m \u001b[39mdef\u001b[39;00m \u001b[39mbuild_embeedings_for_eval\u001b[39m(\u001b[39mself\u001b[39m,idx_word,phase):\n\u001b[1;32m    235\u001b[0m     data \u001b[39m=\u001b[39m {}\n\u001b[0;32m--> 236\u001b[0m     \u001b[39mfor\u001b[39;00m (model_id,_,texts , _, shapes) \u001b[39min\u001b[39;00m tqdm(\u001b[39mself\u001b[39m\u001b[39m.\u001b[39mdataloader[phase]):\n\u001b[1;32m    238\u001b[0m         shapes \u001b[39m=\u001b[39m shapes\u001b[39m.\u001b[39mto(\u001b[39mself\u001b[39m\u001b[39m.\u001b[39mdevice)\n\u001b[1;32m    239\u001b[0m         texts \u001b[39m=\u001b[39m texts\u001b[39m.\u001b[39mto(\u001b[39mself\u001b[39m\u001b[39m.\u001b[39mdevice)\n",
      "File \u001b[0;32m/Library/Frameworks/Python.framework/Versions/3.11/lib/python3.11/site-packages/tqdm/std.py:1178\u001b[0m, in \u001b[0;36mtqdm.__iter__\u001b[0;34m(self)\u001b[0m\n\u001b[1;32m   1175\u001b[0m time \u001b[39m=\u001b[39m \u001b[39mself\u001b[39m\u001b[39m.\u001b[39m_time\n\u001b[1;32m   1177\u001b[0m \u001b[39mtry\u001b[39;00m:\n\u001b[0;32m-> 1178\u001b[0m     \u001b[39mfor\u001b[39;00m obj \u001b[39min\u001b[39;00m iterable:\n\u001b[1;32m   1179\u001b[0m         \u001b[39myield\u001b[39;00m obj\n\u001b[1;32m   1180\u001b[0m         \u001b[39m# Update and possibly print the progressbar.\u001b[39;00m\n\u001b[1;32m   1181\u001b[0m         \u001b[39m# Note: does not call self.update(1) for speed optimisation.\u001b[39;00m\n",
      "File \u001b[0;32m/Library/Frameworks/Python.framework/Versions/3.11/lib/python3.11/site-packages/torch/utils/data/dataloader.py:633\u001b[0m, in \u001b[0;36m_BaseDataLoaderIter.__next__\u001b[0;34m(self)\u001b[0m\n\u001b[1;32m    630\u001b[0m \u001b[39mif\u001b[39;00m \u001b[39mself\u001b[39m\u001b[39m.\u001b[39m_sampler_iter \u001b[39mis\u001b[39;00m \u001b[39mNone\u001b[39;00m:\n\u001b[1;32m    631\u001b[0m     \u001b[39m# TODO(https://github.com/pytorch/pytorch/issues/76750)\u001b[39;00m\n\u001b[1;32m    632\u001b[0m     \u001b[39mself\u001b[39m\u001b[39m.\u001b[39m_reset()  \u001b[39m# type: ignore[call-arg]\u001b[39;00m\n\u001b[0;32m--> 633\u001b[0m data \u001b[39m=\u001b[39m \u001b[39mself\u001b[39;49m\u001b[39m.\u001b[39;49m_next_data()\n\u001b[1;32m    634\u001b[0m \u001b[39mself\u001b[39m\u001b[39m.\u001b[39m_num_yielded \u001b[39m+\u001b[39m\u001b[39m=\u001b[39m \u001b[39m1\u001b[39m\n\u001b[1;32m    635\u001b[0m \u001b[39mif\u001b[39;00m \u001b[39mself\u001b[39m\u001b[39m.\u001b[39m_dataset_kind \u001b[39m==\u001b[39m _DatasetKind\u001b[39m.\u001b[39mIterable \u001b[39mand\u001b[39;00m \\\n\u001b[1;32m    636\u001b[0m         \u001b[39mself\u001b[39m\u001b[39m.\u001b[39m_IterableDataset_len_called \u001b[39mis\u001b[39;00m \u001b[39mnot\u001b[39;00m \u001b[39mNone\u001b[39;00m \u001b[39mand\u001b[39;00m \\\n\u001b[1;32m    637\u001b[0m         \u001b[39mself\u001b[39m\u001b[39m.\u001b[39m_num_yielded \u001b[39m>\u001b[39m \u001b[39mself\u001b[39m\u001b[39m.\u001b[39m_IterableDataset_len_called:\n",
      "File \u001b[0;32m/Library/Frameworks/Python.framework/Versions/3.11/lib/python3.11/site-packages/torch/utils/data/dataloader.py:677\u001b[0m, in \u001b[0;36m_SingleProcessDataLoaderIter._next_data\u001b[0;34m(self)\u001b[0m\n\u001b[1;32m    675\u001b[0m \u001b[39mdef\u001b[39;00m \u001b[39m_next_data\u001b[39m(\u001b[39mself\u001b[39m):\n\u001b[1;32m    676\u001b[0m     index \u001b[39m=\u001b[39m \u001b[39mself\u001b[39m\u001b[39m.\u001b[39m_next_index()  \u001b[39m# may raise StopIteration\u001b[39;00m\n\u001b[0;32m--> 677\u001b[0m     data \u001b[39m=\u001b[39m \u001b[39mself\u001b[39;49m\u001b[39m.\u001b[39;49m_dataset_fetcher\u001b[39m.\u001b[39;49mfetch(index)  \u001b[39m# may raise StopIteration\u001b[39;00m\n\u001b[1;32m    678\u001b[0m     \u001b[39mif\u001b[39;00m \u001b[39mself\u001b[39m\u001b[39m.\u001b[39m_pin_memory:\n\u001b[1;32m    679\u001b[0m         data \u001b[39m=\u001b[39m _utils\u001b[39m.\u001b[39mpin_memory\u001b[39m.\u001b[39mpin_memory(data, \u001b[39mself\u001b[39m\u001b[39m.\u001b[39m_pin_memory_device)\n",
      "File \u001b[0;32m/Library/Frameworks/Python.framework/Versions/3.11/lib/python3.11/site-packages/torch/utils/data/_utils/fetch.py:51\u001b[0m, in \u001b[0;36m_MapDatasetFetcher.fetch\u001b[0;34m(self, possibly_batched_index)\u001b[0m\n\u001b[1;32m     49\u001b[0m         data \u001b[39m=\u001b[39m \u001b[39mself\u001b[39m\u001b[39m.\u001b[39mdataset\u001b[39m.\u001b[39m__getitems__(possibly_batched_index)\n\u001b[1;32m     50\u001b[0m     \u001b[39melse\u001b[39;00m:\n\u001b[0;32m---> 51\u001b[0m         data \u001b[39m=\u001b[39m [\u001b[39mself\u001b[39;49m\u001b[39m.\u001b[39;49mdataset[idx] \u001b[39mfor\u001b[39;49;00m idx \u001b[39min\u001b[39;49;00m possibly_batched_index]\n\u001b[1;32m     52\u001b[0m \u001b[39melse\u001b[39;00m:\n\u001b[1;32m     53\u001b[0m     data \u001b[39m=\u001b[39m \u001b[39mself\u001b[39m\u001b[39m.\u001b[39mdataset[possibly_batched_index]\n",
      "File \u001b[0;32m/Library/Frameworks/Python.framework/Versions/3.11/lib/python3.11/site-packages/torch/utils/data/_utils/fetch.py:51\u001b[0m, in \u001b[0;36m<listcomp>\u001b[0;34m(.0)\u001b[0m\n\u001b[1;32m     49\u001b[0m         data \u001b[39m=\u001b[39m \u001b[39mself\u001b[39m\u001b[39m.\u001b[39mdataset\u001b[39m.\u001b[39m__getitems__(possibly_batched_index)\n\u001b[1;32m     50\u001b[0m     \u001b[39melse\u001b[39;00m:\n\u001b[0;32m---> 51\u001b[0m         data \u001b[39m=\u001b[39m [\u001b[39mself\u001b[39;49m\u001b[39m.\u001b[39;49mdataset[idx] \u001b[39mfor\u001b[39;00m idx \u001b[39min\u001b[39;00m possibly_batched_index]\n\u001b[1;32m     52\u001b[0m \u001b[39melse\u001b[39;00m:\n\u001b[1;32m     53\u001b[0m     data \u001b[39m=\u001b[39m \u001b[39mself\u001b[39m\u001b[39m.\u001b[39mdataset[possibly_batched_index]\n",
      "File \u001b[0;32m~/szkola/3D_Gen/Encoder/dataEmbedding/dataEmbeddingLoader.py:43\u001b[0m, in \u001b[0;36mGenerateDataLoader.__getitem__\u001b[0;34m(self, idx)\u001b[0m\n\u001b[1;32m     38\u001b[0m     indices\u001b[39m=\u001b[39mindices[:cfg\u001b[39m.\u001b[39mEMBEDDING_CAPTION_LEN]\n\u001b[1;32m     40\u001b[0m length \u001b[39m=\u001b[39m \u001b[39mlen\u001b[39m(indices)            \n\u001b[0;32m---> 43\u001b[0m voxel,_\u001b[39m=\u001b[39mnrrd\u001b[39m.\u001b[39;49mread(os\u001b[39m.\u001b[39;49mpath\u001b[39m.\u001b[39;49mjoin(\u001b[39mself\u001b[39;49m\u001b[39m.\u001b[39;49msolid_file,model_id,model_id\u001b[39m+\u001b[39;49m\u001b[39m'\u001b[39;49m\u001b[39m.nrrd\u001b[39;49m\u001b[39m'\u001b[39;49m))\n\u001b[1;32m     44\u001b[0m voxel \u001b[39m=\u001b[39m torch\u001b[39m.\u001b[39mFloatTensor(voxel)\n\u001b[1;32m     45\u001b[0m voxel \u001b[39m/\u001b[39m\u001b[39m=\u001b[39m\u001b[39m255.\u001b[39m\n",
      "File \u001b[0;32m/Library/Frameworks/Python.framework/Versions/3.11/lib/python3.11/site-packages/nrrd/reader.py:517\u001b[0m, in \u001b[0;36mread\u001b[0;34m(filename, custom_field_map, index_order)\u001b[0m\n\u001b[1;32m    515\u001b[0m \u001b[39mwith\u001b[39;00m \u001b[39mopen\u001b[39m(filename, \u001b[39m'\u001b[39m\u001b[39mrb\u001b[39m\u001b[39m'\u001b[39m) \u001b[39mas\u001b[39;00m fh:\n\u001b[1;32m    516\u001b[0m     header \u001b[39m=\u001b[39m read_header(fh, custom_field_map)\n\u001b[0;32m--> 517\u001b[0m     data \u001b[39m=\u001b[39m read_data(header, fh, filename, index_order)\n\u001b[1;32m    519\u001b[0m \u001b[39mreturn\u001b[39;00m data, header\n",
      "File \u001b[0;32m/Library/Frameworks/Python.framework/Versions/3.11/lib/python3.11/site-packages/nrrd/reader.py:446\u001b[0m, in \u001b[0;36mread_data\u001b[0;34m(header, fh, filename, index_order)\u001b[0m\n\u001b[1;32m    443\u001b[0m end_index \u001b[39m=\u001b[39m \u001b[39mmin\u001b[39m(start_index \u001b[39m+\u001b[39m _READ_CHUNKSIZE, compressed_data_len)\n\u001b[1;32m    445\u001b[0m \u001b[39m# Decompress and append data\u001b[39;00m\n\u001b[0;32m--> 446\u001b[0m decompressed_data \u001b[39m+\u001b[39m\u001b[39m=\u001b[39m decompobj\u001b[39m.\u001b[39;49mdecompress(compressed_data[start_index:end_index])\n\u001b[1;32m    448\u001b[0m \u001b[39m# Update start index\u001b[39;00m\n\u001b[1;32m    449\u001b[0m start_index \u001b[39m=\u001b[39m end_index\n",
      "\u001b[0;31mKeyboardInterrupt\u001b[0m: "
     ]
    }
   ],
   "source": [
    "history.train(cfg.EMBEDDING_EPOCH_NR,stanData.dict_idx2word)"
   ]
  }
 ],
 "metadata": {
  "kernelspec": {
   "display_name": "Python 3",
   "language": "python",
   "name": "python3"
  },
  "language_info": {
   "codemirror_mode": {
    "name": "ipython",
    "version": 3
   },
   "file_extension": ".py",
   "mimetype": "text/x-python",
   "name": "python",
   "nbconvert_exporter": "python",
   "pygments_lexer": "ipython3",
   "version": "3.11.4"
  },
  "orig_nbformat": 4
 },
 "nbformat": 4,
 "nbformat_minor": 2
}
