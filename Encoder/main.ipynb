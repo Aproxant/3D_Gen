{
 "cells": [
  {
   "cell_type": "code",
   "execution_count": 1,
   "metadata": {},
   "outputs": [
    {
     "name": "stdout",
     "output_type": "stream",
     "text": [
      "cpu\n"
     ]
    }
   ],
   "source": [
    "\n",
    "from torch.utils.data import DataLoader\n",
    "import torch\n",
    "import ssl\n",
    "from Solvers import SolverEmbedding,Loss\n",
    "from scipy.stats import norm\n",
    "\n",
    "from Models.EncoderModels import TextEncoder,TransferLearningALBERT,TextEncoder2\n",
    "from config import cfg\n",
    "from dataEmbedding.dataEmbedding import Read_Load_BuildBatch\n",
    "from dataEmbedding.dataEmbeddingLoader import GenerateDataLoader,check_dataset,collate_embedding\n",
    "from dataEmbedding.generateEmbedding import build_embeedings_CWGAN\n",
    "import matplotlib.pyplot as plt\n",
    "import numpy as np\n",
    "from scipy.spatial import cKDTree\n",
    "import pickle\n",
    "if torch.backends.mps.is_available():\n",
    "    device = torch.device(\"mps\")\n",
    "elif torch.cuda.is_available():\n",
    "    device=torch.device(\"cuda\")\n",
    "else:\n",
    "    device=torch.device(\"cpu\")\n",
    "\n",
    "device=cfg.DEVICE\n",
    "print(device)\n",
    "torch.manual_seed(cfg.SEED)\n",
    "np.random.seed(cfg.SEED)\n",
    "PYTORCH_ENABLE_MPS_FALLBACK=1\n",
    "#for mac os fix \n",
    "ssl._create_default_https_context = ssl._create_unverified_context"
   ]
  },
  {
   "cell_type": "code",
   "execution_count": 2,
   "metadata": {},
   "outputs": [],
   "source": [
    "stanData=Read_Load_BuildBatch(cfg.EMBEDDING_BATCH_SIZE)"
   ]
  },
  {
   "cell_type": "code",
   "execution_count": 3,
   "metadata": {},
   "outputs": [
    {
     "name": "stdout",
     "output_type": "stream",
     "text": [
      "Median of list is : 14.0\n",
      "Mean: 16.307937873199133\n"
     ]
    },
    {
     "data": {
      "text/plain": [
       "Text(0.5, 1.0, 'Fit Values: 16.31 and 8.50')"
      ]
     },
     "execution_count": 3,
     "metadata": {},
     "output_type": "execute_result"
    },
    {
     "data": {
      "image/png": "[encoded data removed]",
      "text/plain": [
       "<Figure size 640x480 with 1 Axes>"
      ]
     },
     "metadata": {},
     "output_type": "display_data"
    }
   ],
   "source": [
    "stanData.wordlens.sort()\n",
    "mid = len(stanData.wordlens) // 2\n",
    "res = (stanData.wordlens[mid] + stanData.wordlens[~mid]) / 2\n",
    "print(\"Median of list is : \" + str(res))\n",
    "print(\"Mean: \"+ str(sum(stanData.wordlens)/len(stanData.wordlens)))\n",
    "\n",
    "mu, std = norm.fit(stanData.wordlens) \n",
    "  \n",
    "# Plot the histogram.\n",
    "plt.hist(stanData.wordlens, density=True, alpha=0.6, color='b')\n",
    "  \n",
    "# Plot the PDF.\n",
    "xmin, xmax = plt.xlim()\n",
    "x = np.linspace(xmin, xmax, 100)\n",
    "p = norm.pdf(x, mu, std)\n",
    "  \n",
    "plt.plot(x, p, 'k', linewidth=2)\n",
    "title = \"Fit Values: {:.2f} and {:.2f}\".format(mu, std)\n",
    "plt.title(title)"
   ]
  },
  {
   "cell_type": "code",
   "execution_count": 3,
   "metadata": {},
   "outputs": [],
   "source": [
    "criterion={\n",
    "        #'metric_main': Loss.InstanceMetricLoss(device=cfg.DEVICE),\n",
    "        'metric_separator': Loss.TripletLoss(device=cfg.DEVICE),\n",
    "        'metric_main':Loss.NPairLoss(device=cfg.DEVICE),\n",
    "        #'metric_separator':Loss.customSimilarityLoss()\n",
    "        }\n",
    "\n",
    "if cfg.EMBEDDING_ALBERT:\n",
    "    TextModel=TransferLearningALBERT()\n",
    "    for i in TextModel.parameters():\n",
    "        i.requires_grad_=False\n",
    "else:\n",
    "    TextModel=TextEncoder2(len(stanData.dict_word2idx))\n",
    "TextModel=TextModel.to(device)\n",
    "\n",
    "optimizer = torch.optim.Adam(TextModel.parameters(), lr=cfg.EMBEDDING_LR, weight_decay=cfg.EMBEDDING_WEIGHT_DC)\n",
    "history=SolverEmbedding.Solver(TextModel,stanData,optimizer,criterion,cfg.EMBEDDING_BATCH_SIZE,'online',device)"
   ]
  },
  {
   "cell_type": "code",
   "execution_count": 4,
   "metadata": {},
   "outputs": [
    {
     "name": "stdout",
     "output_type": "stream",
     "text": [
      "Epoch [1/20] starting...\n",
      "\n",
      "Training...\n"
     ]
    },
    {
     "data": {
      "application/vnd.jupyter.widget-view+json": {
       "model_id": "fa0532e7504e4c59a365ea7f110cbd44",
       "version_major": 2,
       "version_minor": 0
      },
      "text/plain": [
       "0it [00:00, ?it/s]"
      ]
     },
     "metadata": {},
     "output_type": "display_data"
    }
   ],
   "source": [
    "history.train(cfg.EMBEDDING_EPOCH_NR,stanData.dict_idx2word)"
   ]
  },
  {
   "cell_type": "code",
   "execution_count": 5,
   "metadata": {},
   "outputs": [
    {
     "ename": "AttributeError",
     "evalue": "'Read_Load_BuildBatch' object has no attribute 'data_dir'",
     "output_type": "error",
     "traceback": [
      "\u001b[0;31m---------------------------------------------------------------------------\u001b[0m",
      "\u001b[0;31mAttributeError\u001b[0m                            Traceback (most recent call last)",
      "\u001b[1;32m/Users/brysiakp/szkola/3D_Gen/Encoder/main.ipynb Cell 6\u001b[0m line \u001b[0;36m1\n\u001b[0;32m----> <a href='vscode-notebook-cell:/Users/brysiakp/szkola/3D_Gen/Encoder/main.ipynb#W6sZmlsZQ%3D%3D?line=0'>1</a>\u001b[0m loader\u001b[39m=\u001b[39m{\u001b[39m'\u001b[39m\u001b[39mtrain\u001b[39m\u001b[39m'\u001b[39m : GenerateDataLoader(stanData\u001b[39m.\u001b[39mtrain,stanData\u001b[39m.\u001b[39;49mdata_dir,stanData\u001b[39m.\u001b[39mdict_word2idx),\n\u001b[1;32m      <a href='vscode-notebook-cell:/Users/brysiakp/szkola/3D_Gen/Encoder/main.ipynb#W6sZmlsZQ%3D%3D?line=1'>2</a>\u001b[0m         \u001b[39m'\u001b[39m\u001b[39mtest\u001b[39m\u001b[39m'\u001b[39m : GenerateDataLoader(stanData\u001b[39m.\u001b[39mtest,stanData\u001b[39m.\u001b[39mdata_dir,stanData\u001b[39m.\u001b[39mdict_word2idx),\n\u001b[1;32m      <a href='vscode-notebook-cell:/Users/brysiakp/szkola/3D_Gen/Encoder/main.ipynb#W6sZmlsZQ%3D%3D?line=2'>3</a>\u001b[0m         \u001b[39m'\u001b[39m\u001b[39mval\u001b[39m\u001b[39m'\u001b[39m:GenerateDataLoader(stanData\u001b[39m.\u001b[39mval,stanData\u001b[39m.\u001b[39mdata_dir,stanData\u001b[39m.\u001b[39mdict_word2idx)}\n\u001b[1;32m      <a href='vscode-notebook-cell:/Users/brysiakp/szkola/3D_Gen/Encoder/main.ipynb#W6sZmlsZQ%3D%3D?line=4'>5</a>\u001b[0m dataloader \u001b[39m=\u001b[39m {\n\u001b[1;32m      <a href='vscode-notebook-cell:/Users/brysiakp/szkola/3D_Gen/Encoder/main.ipynb#W6sZmlsZQ%3D%3D?line=5'>6</a>\u001b[0m             \u001b[39m'\u001b[39m\u001b[39mtrain\u001b[39m\u001b[39m'\u001b[39m: DataLoader(\n\u001b[1;32m      <a href='vscode-notebook-cell:/Users/brysiakp/szkola/3D_Gen/Encoder/main.ipynb#W6sZmlsZQ%3D%3D?line=6'>7</a>\u001b[0m                 loader[\u001b[39m'\u001b[39m\u001b[39mtrain\u001b[39m\u001b[39m'\u001b[39m], \n\u001b[0;32m   (...)\u001b[0m\n\u001b[1;32m     <a href='vscode-notebook-cell:/Users/brysiakp/szkola/3D_Gen/Encoder/main.ipynb#W6sZmlsZQ%3D%3D?line=23'>24</a>\u001b[0m             )\n\u001b[1;32m     <a href='vscode-notebook-cell:/Users/brysiakp/szkola/3D_Gen/Encoder/main.ipynb#W6sZmlsZQ%3D%3D?line=24'>25</a>\u001b[0m     }   \n\u001b[1;32m     <a href='vscode-notebook-cell:/Users/brysiakp/szkola/3D_Gen/Encoder/main.ipynb#W6sZmlsZQ%3D%3D?line=25'>26</a>\u001b[0m build_embeedings_CWGAN(cfg\u001b[39m.\u001b[39mEMBEDDING_TEXT_MODELS_PATH,TextEncoder(\u001b[39mlen\u001b[39m(stanData\u001b[39m.\u001b[39mdict_word2idx)),dataloader,cfg\u001b[39m.\u001b[39mEMBEDDING_SAVE_PATH,cfg\u001b[39m.\u001b[39mDEVICE)\n",
      "\u001b[0;31mAttributeError\u001b[0m: 'Read_Load_BuildBatch' object has no attribute 'data_dir'"
     ]
    }
   ],
   "source": [
    "loader={'train' : GenerateDataLoader(stanData.train,stanData.data_dir,stanData.dict_word2idx),\n",
    "        'test' : GenerateDataLoader(stanData.test,stanData.data_dir,stanData.dict_word2idx),\n",
    "        'val':GenerateDataLoader(stanData.val,stanData.data_dir,stanData.dict_word2idx)}\n",
    "\n",
    "dataloader = {\n",
    "            'train': DataLoader(\n",
    "                loader['train'], \n",
    "                batch_size=cfg.EMBEDDING_BATCH_SIZE * 2,              \n",
    "                drop_last=check_dataset(loader['train'], cfg.EMBEDDING_BATCH_SIZE * 2),\n",
    "                collate_fn=collate_embedding,\n",
    "                num_workers=4\n",
    "            ),\n",
    "            'val': DataLoader(\n",
    "                loader['val'], \n",
    "                batch_size=cfg.EMBEDDING_BATCH_SIZE*2,\n",
    "                collate_fn=collate_embedding,\n",
    "                num_workers=4\n",
    "            ),\n",
    "            'test': DataLoader(\n",
    "                loader['test'], \n",
    "                batch_size=cfg.EMBEDDING_BATCH_SIZE*2,\n",
    "                collate_fn=collate_embedding\n",
    "                #num_workers=2\n",
    "            )\n",
    "    }   \n",
    "build_embeedings_CWGAN(cfg.EMBEDDING_TEXT_MODELS_PATH,TextEncoder(len(stanData.dict_word2idx)),dataloader,cfg.EMBEDDING_SAVE_PATH,cfg.DEVICE)\n"
   ]
  },
  {
   "cell_type": "code",
   "execution_count": 3,
   "metadata": {},
   "outputs": [],
   "source": [
    "with open('./../GeneratedEmbeddings/train.p', 'rb') as pickle_file:\n",
    "    tmp=pickle.load(pickle_file)\n",
    "\n",
    "simMat=np.zeros([len(tmp),128])\n",
    "textList=[]\n",
    "for i,elem in enumerate(tmp):\n",
    "    simMat[i]=elem[2]\n",
    "    values = [stanData.dict_idx2word[key] for key in elem[3].tolist() if key!=0]\n",
    "    textList.append(' '.join(values))\n",
    "    \n",
    "with open('./../GeneratedEmbeddings/test.p', 'rb') as pickle_file:\n",
    "    tmp=pickle.load(pickle_file)\n",
    "\n",
    "simMatTest=np.zeros([len(tmp),128])\n",
    "textListTest=[]\n",
    "for i,elem in enumerate(tmp):\n",
    "    simMatTest[i]=elem[2]\n",
    "    values = [stanData.dict_idx2word[key] for key in elem[3].tolist() if key!=0]\n",
    "    textListTest.append(' '.join(values))\n",
    "    "
   ]
  },
  {
   "cell_type": "code",
   "execution_count": 4,
   "metadata": {},
   "outputs": [],
   "source": [
    "patternIdx=4\n",
    "similarIndex=cKDTree(simMat).query(simMatTest[patternIdx], k=1)[1]"
   ]
  },
  {
   "cell_type": "code",
   "execution_count": 5,
   "metadata": {},
   "outputs": [
    {
     "name": "stdout",
     "output_type": "stream",
     "text": [
      "a light green single seat chair with a raise surface for use in bar\n",
      "a metal chair with wire type of seat and back rest brown in color\n"
     ]
    }
   ],
   "source": [
    "print(textList[similarIndex])\n",
    "print(textListTest[patternIdx])"
   ]
  }
 ],
 "metadata": {
  "kernelspec": {
   "display_name": "Python 3",
   "language": "python",
   "name": "python3"
  },
  "language_info": {
   "codemirror_mode": {
    "name": "ipython",
    "version": 3
   },
   "file_extension": ".py",
   "mimetype": "text/x-python",
   "name": "python",
   "nbconvert_exporter": "python",
   "pygments_lexer": "ipython3",
   "version": "3.11.4"
  },
  "orig_nbformat": 4
 },
 "nbformat": 4,
 "nbformat_minor": 2
}
