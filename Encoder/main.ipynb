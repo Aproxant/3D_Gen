{
 "cells": [
  {
   "cell_type": "code",
   "execution_count": 1,
   "metadata": {},
   "outputs": [
    {
     "name": "stdout",
     "output_type": "stream",
     "text": [
      "cpu\n"
     ]
    }
   ],
   "source": [
    "import pandas as pd\n",
    "import numpy as np\n",
    "from tqdm import tqdm\n",
    "from torch.utils.data import DataLoader\n",
    "import torch\n",
    "import trimesh\n",
    "from functools import partial\n",
    "import ssl\n",
    "import pickle\n",
    "from Solvers import SolverEmbedding,Loss\n",
    "from Models.EncoderModels import TextEncoder, ShapeEncoder\n",
    "from config import cfg\n",
    "from dataEmbedding.dataEmbedding import Read_Load_BuildBatch\n",
    "from dataEmbedding.dataEmbeddingLoader import GenerateDataLoader,check_dataset,collate_embedding\n",
    "from dataEmbedding.generateEmbedding import build_embeedings_CWGAN\n",
    "if torch.backends.mps.is_available():\n",
    "    device = torch.device(\"mps\")\n",
    "elif torch.cuda.is_available():\n",
    "    device=torch.device(\"cuda\")\n",
    "else:\n",
    "    device=torch.device(\"cpu\")\n",
    "\n",
    "device=cfg.DEVICE\n",
    "print(device)\n",
    "PYTORCH_ENABLE_MPS_FALLBACK=1\n",
    "#for mac os fix \n",
    "ssl._create_default_https_context = ssl._create_unverified_context"
   ]
  },
  {
   "cell_type": "code",
   "execution_count": 2,
   "metadata": {},
   "outputs": [],
   "source": [
    "#primiData = Read_Load_BuildBatch('/primitives',batchSize,'primitives')\n",
    "stanData=Read_Load_BuildBatch(cfg.EMBEDDING_VOXEL_FOLDER,cfg.EMBEDDING_BATCH_SIZE)\n"
   ]
  },
  {
   "cell_type": "code",
   "execution_count": 3,
   "metadata": {},
   "outputs": [
    {
     "name": "stdout",
     "output_type": "stream",
     "text": [
      "Median of list is : 14.0\n",
      "Mean: 16.307937873199133\n"
     ]
    }
   ],
   "source": [
    "stanData.wordlens.sort()\n",
    "mid = len(stanData.wordlens) // 2\n",
    "res = (stanData.wordlens[mid] + stanData.wordlens[~mid]) / 2\n",
    "print(\"Median of list is : \" + str(res))\n",
    "print(\"Mean: \"+ str(sum(stanData.wordlens)/len(stanData.wordlens)))"
   ]
  },
  {
   "cell_type": "code",
   "execution_count": 4,
   "metadata": {},
   "outputs": [],
   "source": [
    "train_dataset = GenerateDataLoader(stanData.data_agg_train,stanData.data_dir,stanData.dict_word2idx)\n",
    "\n",
    "val_dataset = GenerateDataLoader(stanData.data_agg_val,stanData.data_dir,stanData.dict_word2idx)\n",
    "\n",
    "test_dataset=GenerateDataLoader(stanData.data_agg_test,stanData.data_dir,stanData.dict_word2idx)\n",
    "\n",
    "dataloader = {\n",
    "            'train': DataLoader(\n",
    "                train_dataset, \n",
    "                batch_size=cfg.EMBEDDING_BATCH_SIZE * 2,              \n",
    "                drop_last=check_dataset(train_dataset, cfg.EMBEDDING_BATCH_SIZE * 2),\n",
    "                collate_fn=collate_embedding,\n",
    "                num_workers=4\n",
    "            ),\n",
    "            'val': DataLoader(\n",
    "                val_dataset, \n",
    "                batch_size=cfg.EMBEDDING_BATCH_SIZE*2,\n",
    "                collate_fn=collate_embedding,\n",
    "                num_workers=4\n",
    "            ),\n",
    "            'test': DataLoader(\n",
    "                test_dataset, \n",
    "                batch_size=cfg.EMBEDDING_BATCH_SIZE*2,\n",
    "                collate_fn=collate_embedding\n",
    "                #num_workers=2\n",
    "            )\n",
    "    }       \n"
   ]
  },
  {
   "cell_type": "code",
   "execution_count": 5,
   "metadata": {},
   "outputs": [],
   "source": [
    "criterion={\n",
    "        'walker': Loss.RoundTripLoss(device=device),\n",
    "        'visit': Loss.AssociationLoss(device=device),\n",
    "        #'metric': Loss.SmoothedMetricLoss(device=device)\n",
    "        #'metric': Loss.InstanceMetricLoss()\n",
    "        'metric': Loss.TripletLoss()\n",
    "        #'metric':Loss.NPairLoss()\n",
    "        }"
   ]
  },
  {
   "cell_type": "code",
   "execution_count": 6,
   "metadata": {},
   "outputs": [],
   "source": [
    "ShapeModel=ShapeEncoder()\n",
    "ShapeModel=ShapeModel.to(device)\n",
    "TextModel=TextEncoder(len(stanData.dict_word2idx))\n",
    "TextModel=TextModel.to(device)\n",
    "optimizer = torch.optim.Adam(list(ShapeModel.parameters()) + list(TextModel.parameters()), lr=cfg.EMBEDDING_LR, weight_decay=cfg.EMBEDDING_WEIGHT_DC)\n",
    "history=SolverEmbedding.Solver(TextModel,ShapeModel,dataloader,optimizer,criterion,cfg.EMBEDDING_BATCH_SIZE,device)"
   ]
  },
  {
   "cell_type": "code",
   "execution_count": 7,
   "metadata": {},
   "outputs": [
    {
     "name": "stdout",
     "output_type": "stream",
     "text": [
      "Epoch [1/4] starting...\n",
      "\n",
      "Training...\n"
     ]
    },
    {
     "data": {
      "application/vnd.jupyter.widget-view+json": {
       "model_id": "052c45e6761c433fa7d427f971dc32c8",
       "version_major": 2,
       "version_minor": 0
      },
      "text/plain": [
       "0it [00:00, ?it/s]"
      ]
     },
     "metadata": {},
     "output_type": "display_data"
    },
    {
     "name": "stdout",
     "output_type": "stream",
     "text": [
      "Validating...\n",
      "\n"
     ]
    },
    {
     "data": {
      "application/vnd.jupyter.widget-view+json": {
       "model_id": "fb6c813777e9414993ba60697d557ad9",
       "version_major": 2,
       "version_minor": 0
      },
      "text/plain": [
       "0it [00:00, ?it/s]"
      ]
     },
     "metadata": {},
     "output_type": "display_data"
    },
    {
     "name": "stdout",
     "output_type": "stream",
     "text": [
      "epoch [1/4] done...\n",
      "------------------------summary------------------------\n",
      "[train] total_loss: 0.971750\n",
      "[val]   total_loss: 0.820018\n",
      "[train] metric_loss_tt: 0.971750\n",
      "[val]  metric_loss_tt: 0.820018\n",
      "Evaluating...\n"
     ]
    },
    {
     "data": {
      "application/vnd.jupyter.widget-view+json": {
       "model_id": "ec62a1cc90c64bf3b6e0991001d047b5",
       "version_major": 2,
       "version_minor": 0
      },
      "text/plain": [
       "0it [00:00, ?it/s]"
      ]
     },
     "metadata": {},
     "output_type": "display_data"
    },
    {
     "name": "stdout",
     "output_type": "stream",
     "text": [
      "\n",
      "Number of embedding: 31861\n",
      "Number of shape embeddings: 1463, number of text embeddings: 30398\n",
      "Dimensionality of embedding: 128\n",
      "Evaluation mode: t2t\n",
      "\n",
      "min embedding val: -0.2281501293182373\n",
      "max embedding val: 0.2419724464416504\n",
      "mean embedding (abs) val: 0.04498983075216001\n",
      "Number of models : 1463\n",
      "\n",
      "Example model IDs:\n",
      "c07c9ca0cfbb531359c956f09c934d51\n",
      "f9d9ef770e04c5772b3242897b354191\n",
      "74ade89963828a37d94ed55f750426f\n",
      "40e2ccbc74d0aae3b398a1cfd1079875\n",
      "f37348b116d83408febad4f49b26ec52\n",
      "5141810a02a145ad55f46d55537192b6\n",
      "b94ea1b7a715f5052b151d8b52c53b90\n",
      "795d4213e1dac276f9814818e8ac1c35\n",
      "511e6440fad9bfa81fc8b86678ea0c8b\n",
      "1fcc1a3a879b2a037d43e094da89ace\n",
      "\n",
      "Using unnormalized cosine distance\n",
      "Nearest neighbors on block 1\n",
      "Nearest neighbors on block 2\n",
      "Nearest neighbors on block 3\n",
      "Nearest neighbors on block 4\n",
      "Nearest neighbors on block 5\n",
      "Nearest neighbors on block 6\n",
      "Nearest neighbors on block 7\n",
      "Nearest neighbors on block 8\n",
      "Nearest neighbors on block 9\n",
      "Nearest neighbors on block 10\n",
      "Nearest neighbors on block 11\n",
      "Computing precision recall.\n",
      "     k: precision recall recall_rate ndcg\n",
      "pr @ 1: 0.0014474636489242713 6.57938022238304e-05 0.0014474636489242713 0.0014474636489242713\n",
      "pr @ 2: 0.0014474636489242713 0.0001315876044476608 0.0014474636489242713 0.0014474636489242713\n",
      "pr @ 3: 0.001414566747812356 0.00018751233633791683 0.0014474636489242713 0.001424306925158427\n",
      "pr @ 4: 0.0015708270280939535 0.00025330613856174705 0.0023685768800578984 0.001527755956901503\n",
      "pr @ 5: 0.0016645831962629107 0.000319099940785578 0.0023685768800578984 0.0015949135266951921\n",
      "pr @ 6: 0.001727087308375551 0.0003848937430094091 0.0023685768800578984 0.0016428467538674586\n",
      "pr @ 7: 0.0017388362016298048 0.0004439146538278442 0.0023685768800578984 0.0016581008150543118\n",
      "pr @ 8: 0.001706526745180604 0.0005086013488027167 0.002927824198960458 0.0016439181126232257\n",
      "pr @ 9: 0.0016594659005343911 0.0005662387078250345 0.002927824198960458 0.001618379601279455\n",
      "pr @ 10: 0.0016086584643726558 0.0006309254027999062 0.0036186591223106783 0.001588669452672459\n",
      "pr @ 11: 0.001549144979633829 0.0007028873739822209 0.0038818343312060004 0.0015636017335850187\n",
      "pr @ 12: 0.00149406759216615 0.0007666251198865568 0.0038818343312060004 0.0015393777067314726\n",
      "pr @ 13: 0.0014449331180695106 0.0008324189221103874 0.004145009540101323 0.0015190123070187138\n",
      "pr @ 14: 0.0013910689613038467 0.0008890746962475747 0.004145009540101323 0.0014950718782826727\n",
      "pr @ 15: 0.001357545452551705 0.0009425321605544378 0.004868741364563458 0.0014815311250520225\n",
      "pr @ 16: 0.0013775577340614513 0.001011380675024374 0.005822751496809 0.0014982240054588634\n",
      "pr @ 17: 0.0013952156295112316 0.0010802291894943116 0.005822751496809 0.0015160698888459867\n",
      "pr @ 18: 0.0014109115365776987 0.0011490777039642494 0.005822751496809 0.0015323231116940541\n",
      "pr @ 19: 0.0013972525893323998 0.001195646044499297 0.006414895716823475 0.001533255941637847\n",
      "pr @ 20: 0.001465556944535823 0.0012735290527475065 0.008586091190209881 0.001586892722354374\n",
      "saving models...\n",
      "\n",
      "Epoch [2/4] starting...\n",
      "\n",
      "Training...\n"
     ]
    },
    {
     "data": {
      "application/vnd.jupyter.widget-view+json": {
       "model_id": "38b06e62b1d442ff9bb234cc29f1316c",
       "version_major": 2,
       "version_minor": 0
      },
      "text/plain": [
       "0it [00:00, ?it/s]"
      ]
     },
     "metadata": {},
     "output_type": "display_data"
    },
    {
     "name": "stdout",
     "output_type": "stream",
     "text": [
      "Validating...\n",
      "\n"
     ]
    },
    {
     "data": {
      "application/vnd.jupyter.widget-view+json": {
       "model_id": "3fb43c67781243be8cff02132f43b4fb",
       "version_major": 2,
       "version_minor": 0
      },
      "text/plain": [
       "0it [00:00, ?it/s]"
      ]
     },
     "metadata": {},
     "output_type": "display_data"
    },
    {
     "name": "stdout",
     "output_type": "stream",
     "text": [
      "epoch [2/4] done...\n",
      "------------------------summary------------------------\n",
      "[train] total_loss: 0.789786\n",
      "[val]   total_loss: 0.786474\n",
      "[train] metric_loss_tt: 0.789786\n",
      "[val]  metric_loss_tt: 0.786474\n",
      "Evaluating...\n"
     ]
    },
    {
     "data": {
      "application/vnd.jupyter.widget-view+json": {
       "model_id": "416e51a444ed4777b844e6d16c85d743",
       "version_major": 2,
       "version_minor": 0
      },
      "text/plain": [
       "0it [00:00, ?it/s]"
      ]
     },
     "metadata": {},
     "output_type": "display_data"
    },
    {
     "name": "stdout",
     "output_type": "stream",
     "text": [
      "\n",
      "Number of embedding: 31861\n",
      "Number of shape embeddings: 1463, number of text embeddings: 30398\n",
      "Dimensionality of embedding: 128\n",
      "Evaluation mode: t2t\n",
      "\n",
      "min embedding val: -0.24237410724163055\n",
      "max embedding val: 0.2649449110031128\n",
      "mean embedding (abs) val: 0.03803766831673353\n",
      "Number of models : 1463\n",
      "\n",
      "Example model IDs:\n",
      "c07c9ca0cfbb531359c956f09c934d51\n",
      "f9d9ef770e04c5772b3242897b354191\n",
      "74ade89963828a37d94ed55f750426f\n",
      "40e2ccbc74d0aae3b398a1cfd1079875\n",
      "f37348b116d83408febad4f49b26ec52\n",
      "5141810a02a145ad55f46d55537192b6\n",
      "b94ea1b7a715f5052b151d8b52c53b90\n",
      "795d4213e1dac276f9814818e8ac1c35\n",
      "511e6440fad9bfa81fc8b86678ea0c8b\n",
      "1fcc1a3a879b2a037d43e094da89ace\n",
      "\n",
      "Using unnormalized cosine distance\n",
      "Nearest neighbors on block 1\n",
      "Nearest neighbors on block 2\n",
      "Nearest neighbors on block 3\n",
      "Nearest neighbors on block 4\n",
      "Nearest neighbors on block 5\n",
      "Nearest neighbors on block 6\n",
      "Nearest neighbors on block 7\n",
      "Nearest neighbors on block 8\n",
      "Nearest neighbors on block 9\n",
      "Nearest neighbors on block 10\n",
      "Nearest neighbors on block 11\n",
      "Computing precision recall.\n",
      "     k: precision recall recall_rate ndcg\n",
      "pr @ 1: 0.0006250411211263899 3.9065070070399366e-05 0.0006250411211263899 0.0006250411211263899\n",
      "pr @ 2: 0.0007895256266859662 9.869070333574577e-05 0.0009540101322455425 0.0007523037065710049\n",
      "pr @ 3: 0.0008443537952058251 0.00015831633660109217 0.0009540101322455425 0.0007996319738065804\n",
      "pr @ 4: 0.000838870978353839 0.00020971774458845976 0.0009540101322455425 0.0008034636934993915\n",
      "pr @ 5: 0.0008158431475754989 0.0002630773014515366 0.0014803605500361865 0.0007930024674421551\n",
      "pr @ 6: 0.0008717678794657546 0.00032540874043604485 0.0022369892756102373 0.0008316329224472564\n",
      "pr @ 7: 0.0008976154446251172 0.00037951595414257433 0.0022369892756102373 0.0008518883682096887\n",
      "pr @ 8: 0.0009910191459964472 0.000451638137505629 0.0028949272978485425 0.0009151619811796683\n",
      "pr @ 9: 0.0010746321029892298 0.0005360966587856515 0.003092308704520034 0.0009752169572481369\n",
      "pr @ 10: 0.001138232778472267 0.0006195108339986289 0.0034870715178630172 0.00102330235042228\n",
      "pr @ 11: 0.0011812978126551404 0.0006967568402531232 0.0034870715178630172 0.0010585302104745991\n",
      "pr @ 12: 0.001197995482158914 0.0007635356506992801 0.0036515560234225935 0.001076759100069156\n",
      "pr @ 13: 0.0011868189708837112 0.000812913638181748 0.004243700243437068 0.0010798263577034106\n",
      "pr @ 14: 0.001167839989472991 0.0008575920683625137 0.004408184748996644 0.0010765369296727664\n",
      "pr @ 15: 0.0011513915389170324 0.0009022704985432791 0.004408184748996644 0.001073601408334142\n",
      "pr @ 16: 0.001136999144680571 0.0009469489287240452 0.004408184748996644 0.001070961420518874\n",
      "pr @ 17: 0.0011184946378051165 0.000985459189946327 0.004408184748996644 0.0010814773219511124\n",
      "pr @ 18: 0.0010874253423105312 0.0010092637074675364 0.004671359957891966 0.0010816410046945286\n",
      "pr @ 19: 0.0010942548159331798 0.0010744504378954007 0.005625370090137509 0.001109445489605807\n",
      "pr @ 20: 0.0011004013421935656 0.001139637168323265 0.005625370090137509 0.0011371955036202468\n",
      "Epoch [3/4] starting...\n",
      "\n",
      "Training...\n"
     ]
    },
    {
     "data": {
      "application/vnd.jupyter.widget-view+json": {
       "model_id": "a773b00d555b468ba3d7a233761cee94",
       "version_major": 2,
       "version_minor": 0
      },
      "text/plain": [
       "0it [00:00, ?it/s]"
      ]
     },
     "metadata": {},
     "output_type": "display_data"
    },
    {
     "name": "stdout",
     "output_type": "stream",
     "text": [
      "Validating...\n",
      "\n"
     ]
    },
    {
     "data": {
      "application/vnd.jupyter.widget-view+json": {
       "model_id": "4b52cce3c6274fc18845a82f3ba61855",
       "version_major": 2,
       "version_minor": 0
      },
      "text/plain": [
       "0it [00:00, ?it/s]"
      ]
     },
     "metadata": {},
     "output_type": "display_data"
    },
    {
     "name": "stdout",
     "output_type": "stream",
     "text": [
      "epoch [3/4] done...\n",
      "------------------------summary------------------------\n",
      "[train] total_loss: 0.777568\n",
      "[val]   total_loss: 0.788385\n",
      "[train] metric_loss_tt: 0.777568\n",
      "[val]  metric_loss_tt: 0.788385\n",
      "Evaluating...\n"
     ]
    },
    {
     "data": {
      "application/vnd.jupyter.widget-view+json": {
       "model_id": "54a55b18196d4d0596a459a170332cd9",
       "version_major": 2,
       "version_minor": 0
      },
      "text/plain": [
       "0it [00:00, ?it/s]"
      ]
     },
     "metadata": {},
     "output_type": "display_data"
    },
    {
     "name": "stdout",
     "output_type": "stream",
     "text": [
      "\n",
      "Number of embedding: 31861\n",
      "Number of shape embeddings: 1463, number of text embeddings: 30398\n",
      "Dimensionality of embedding: 128\n",
      "Evaluation mode: t2t\n",
      "\n",
      "min embedding val: -0.28095173835754395\n",
      "max embedding val: 0.2969523072242737\n",
      "mean embedding (abs) val: 0.062007955682598696\n",
      "Number of models : 1463\n",
      "\n",
      "Example model IDs:\n",
      "c07c9ca0cfbb531359c956f09c934d51\n",
      "f9d9ef770e04c5772b3242897b354191\n",
      "74ade89963828a37d94ed55f750426f\n",
      "40e2ccbc74d0aae3b398a1cfd1079875\n",
      "f37348b116d83408febad4f49b26ec52\n",
      "5141810a02a145ad55f46d55537192b6\n",
      "b94ea1b7a715f5052b151d8b52c53b90\n",
      "795d4213e1dac276f9814818e8ac1c35\n",
      "511e6440fad9bfa81fc8b86678ea0c8b\n",
      "1fcc1a3a879b2a037d43e094da89ace\n",
      "\n",
      "Using unnormalized cosine distance\n",
      "Nearest neighbors on block 1\n",
      "Nearest neighbors on block 2\n",
      "Nearest neighbors on block 3\n",
      "Nearest neighbors on block 4\n",
      "Nearest neighbors on block 5\n",
      "Nearest neighbors on block 6\n",
      "Nearest neighbors on block 7\n",
      "Nearest neighbors on block 8\n",
      "Nearest neighbors on block 9\n",
      "Nearest neighbors on block 10\n",
      "Nearest neighbors on block 11\n",
      "Computing precision recall.\n",
      "     k: precision recall recall_rate ndcg\n",
      "pr @ 1: 0.001414566747812356 7.40180275018094e-05 0.001414566747812356 0.001414566747812356\n",
      "pr @ 2: 0.0013816698467004407 0.00014255323815163292 0.001414566747812356 0.001389114230723433\n",
      "pr @ 3: 0.0013378073118845537 0.00020067109678268297 0.001546154352260017 0.001356491853510474\n",
      "pr @ 4: 0.001414566747812356 0.00026489837990594645 0.0021382985722744915 0.001404971966952961\n",
      "pr @ 5: 0.0014014079873675897 0.00031447870943890425 0.0021382985722744915 0.0013975983699987227\n",
      "pr @ 6: 0.00138166984670044 0.00036504687715293677 0.002927824198960458 0.0013852436604675868\n",
      "pr @ 7: 0.001395768518605548 0.0004226643808195227 0.0031252056056319494 0.0013939587877351968\n",
      "pr @ 8: 0.0013816698467004407 0.00047200014714324863 0.0031252056056319494 0.001385103218222829\n",
      "pr @ 9: 0.001454774071393586 0.0005551913489935729 0.004243700243437068 0.0014314131926797184\n",
      "pr @ 10: 0.0015198368313704864 0.000648721576907642 0.004802947562339627 0.0014742928709178104\n",
      "pr @ 11: 0.0015730699986243107 0.0007422518048217117 0.004802947562339627 0.0015111871987555903\n",
      "pr @ 12: 0.0015543785775379976 0.000809690452101137 0.0055924731890255935 0.0015029265083629066\n",
      "pr @ 13: 0.0015410932905504913 0.0008637353610707126 0.006316205013487729 0.0015056109737445016\n",
      "pr @ 14: 0.0015367552376566145 0.0009251429098129528 0.0064806895190473056 0.0015131922821700577\n",
      "pr @ 15: 0.0015636993661863718 0.0009898401486663855 0.007138627541285611 0.0015392316630415098\n",
      "pr @ 16: 0.0015852194223304164 0.001055633950890217 0.0077307717613000855 0.0015613314418082421\n",
      "pr @ 17: 0.0015829214770321574 0.001126127310415747 0.008026843871307324 0.001569129700665438\n",
      "pr @ 18: 0.0015680856196679594 0.001187848162978103 0.008026843871307324 0.0015688918904979002\n",
      "pr @ 19: 0.001532303025476053 0.001240848725880634 0.008915060201329034 0.001559030902982403\n",
      "pr @ 20: 0.0015050332258701217 0.0012987838239499512 0.00901375090466478 0.0015552479926047567\n",
      "Epoch [4/4] starting...\n",
      "\n",
      "Training...\n"
     ]
    },
    {
     "data": {
      "application/vnd.jupyter.widget-view+json": {
       "model_id": "b7d314f8a0474862ab4d63ae75755ea7",
       "version_major": 2,
       "version_minor": 0
      },
      "text/plain": [
       "0it [00:00, ?it/s]"
      ]
     },
     "metadata": {},
     "output_type": "display_data"
    },
    {
     "name": "stdout",
     "output_type": "stream",
     "text": [
      "Validating...\n",
      "\n"
     ]
    },
    {
     "data": {
      "application/vnd.jupyter.widget-view+json": {
       "model_id": "7d809172624940da81c2cd9a160754c9",
       "version_major": 2,
       "version_minor": 0
      },
      "text/plain": [
       "0it [00:00, ?it/s]"
      ]
     },
     "metadata": {},
     "output_type": "display_data"
    },
    {
     "name": "stdout",
     "output_type": "stream",
     "text": [
      "epoch [4/4] done...\n",
      "------------------------summary------------------------\n",
      "[train] total_loss: 0.773256\n",
      "[val]   total_loss: 0.786554\n",
      "[train] metric_loss_tt: 0.773256\n",
      "[val]  metric_loss_tt: 0.786554\n",
      "Evaluating...\n"
     ]
    },
    {
     "data": {
      "application/vnd.jupyter.widget-view+json": {
       "model_id": "e23a6d87ee5647c18c46e83211a9fa5f",
       "version_major": 2,
       "version_minor": 0
      },
      "text/plain": [
       "0it [00:00, ?it/s]"
      ]
     },
     "metadata": {},
     "output_type": "display_data"
    },
    {
     "name": "stdout",
     "output_type": "stream",
     "text": [
      "\n",
      "Number of embedding: 31861\n",
      "Number of shape embeddings: 1463, number of text embeddings: 30398\n",
      "Dimensionality of embedding: 128\n",
      "Evaluation mode: t2t\n",
      "\n",
      "min embedding val: -0.32634779810905457\n",
      "max embedding val: 0.4207761287689209\n",
      "mean embedding (abs) val: 0.059469626737170905\n",
      "Number of models : 1463\n",
      "\n",
      "Example model IDs:\n",
      "c07c9ca0cfbb531359c956f09c934d51\n",
      "f9d9ef770e04c5772b3242897b354191\n",
      "74ade89963828a37d94ed55f750426f\n",
      "40e2ccbc74d0aae3b398a1cfd1079875\n",
      "f37348b116d83408febad4f49b26ec52\n",
      "5141810a02a145ad55f46d55537192b6\n",
      "b94ea1b7a715f5052b151d8b52c53b90\n",
      "795d4213e1dac276f9814818e8ac1c35\n",
      "511e6440fad9bfa81fc8b86678ea0c8b\n",
      "1fcc1a3a879b2a037d43e094da89ace\n",
      "\n",
      "Using unnormalized cosine distance\n",
      "Nearest neighbors on block 1\n",
      "Nearest neighbors on block 2\n",
      "Nearest neighbors on block 3\n",
      "Nearest neighbors on block 4\n",
      "Nearest neighbors on block 5\n",
      "Nearest neighbors on block 6\n",
      "Nearest neighbors on block 7\n",
      "Nearest neighbors on block 8\n",
      "Nearest neighbors on block 9\n",
      "Nearest neighbors on block 10\n",
      "Nearest neighbors on block 11\n",
      "Computing precision recall.\n",
      "     k: precision recall recall_rate ndcg\n",
      "pr @ 1: 0.0011842884400289492 5.921442200144749e-05 0.0011842884400289492 0.0011842884400289492\n",
      "pr @ 2: 0.0011842884400289492 0.00011842884400289498 0.0011842884400289492 0.0011842884400289492\n",
      "pr @ 3: 0.0011184946378051187 0.00016777419567076782 0.0011842884400289492 0.0011379749924972607\n",
      "pr @ 4: 0.001143167313639055 0.0002491026456418918 0.0024014737811698136 0.0011512924332618868\n",
      "pr @ 5: 0.0011448121586946508 0.0003257315383113132 0.0024014737811698136 0.0011513054364270519\n",
      "pr @ 6: 0.0010965633703971752 0.0003915253405351438 0.0030265149022962036 0.0011194013549256816\n",
      "pr @ 7: 0.0010433017209778826 0.00044635350905500244 0.0030265149022962036 0.0010831479583991012\n",
      "pr @ 8: 0.000999243371274426 0.0004966126635315395 0.003092308704520034 0.001051843520795342\n",
      "pr @ 9: 0.0009576653434801976 0.00054321660677342 0.003092308704520034 0.001021644792329183\n",
      "pr @ 10: 0.0009869070333574572 0.0006090104089972496 0.0038818343312060004 0.00103617816294748\n",
      "pr @ 11: 0.001019803934469374 0.000672092928162406 0.004177906441213237 0.001054259255362734\n",
      "pr @ 12: 0.0010527008355812886 0.0007428122279428285 0.004605566155668136 0.0010733783981834075\n",
      "pr @ 13: 0.0011918800325932373 0.0008146511872085906 0.007171524442397526 0.0011660894583912177\n",
      "pr @ 14: 0.0012900284793172464 0.0008751027576279224 0.007171524442397526 0.001234583214843878\n",
      "pr @ 15: 0.0013619317060332926 0.000926275714913122 0.007171524442397526 0.0012969779668462527\n",
      "pr @ 16: 0.001449519705243766 0.0009934613091070786 0.007895256266859663 0.0013689081875784819\n",
      "pr @ 17: 0.001522933010298667 0.0010573572131898363 0.007895256266859663 0.0014315467360873893\n",
      "pr @ 18: 0.0015680856196679603 0.0011025616961862772 0.008026843871307324 0.0014756512199951362\n",
      "pr @ 19: 0.0015998282435478802 0.0011414398520458123 0.008026843871307324 0.0015143406462453783\n",
      "pr @ 20: 0.0016283966050398006 0.001180318007905348 0.008026843871307324 0.0015499278034490172\n"
     ]
    }
   ],
   "source": [
    "history.train(cfg.EMBEDDING_EPOCH_NR,stanData.dict_idx2word)"
   ]
  },
  {
   "cell_type": "code",
   "execution_count": 21,
   "metadata": {},
   "outputs": [
    {
     "name": "stderr",
     "output_type": "stream",
     "text": [
      "100%|██████████| 233/233 [00:52<00:00,  4.44it/s]\n",
      "100%|██████████| 30/30 [00:03<00:00,  9.25it/s]\n",
      "100%|██████████| 30/30 [00:27<00:00,  1.08it/s]\n"
     ]
    }
   ],
   "source": [
    "loader={'train' : GenerateDataLoader(stanData.train,stanData.data_dir,stanData.dict_word2idx),\n",
    "        'test' : GenerateDataLoader(stanData.test,stanData.data_dir,stanData.dict_word2idx),\n",
    "        'val':GenerateDataLoader(stanData.val,stanData.data_dir,stanData.dict_word2idx)}\n",
    "\n",
    "dataloader = {\n",
    "            'train': DataLoader(\n",
    "                loader['train'], \n",
    "                batch_size=cfg.EMBEDDING_BATCH_SIZE * 2,              \n",
    "                drop_last=check_dataset(loader['train'], cfg.EMBEDDING_BATCH_SIZE * 2),\n",
    "                collate_fn=collate_embedding,\n",
    "                num_workers=4\n",
    "            ),\n",
    "            'val': DataLoader(\n",
    "                loader['val'], \n",
    "                batch_size=cfg.EMBEDDING_BATCH_SIZE*2,\n",
    "                collate_fn=collate_embedding,\n",
    "                num_workers=4\n",
    "            ),\n",
    "            'test': DataLoader(\n",
    "                loader['test'], \n",
    "                batch_size=cfg.EMBEDDING_BATCH_SIZE*2,\n",
    "                collate_fn=collate_embedding\n",
    "                #num_workers=2\n",
    "            )\n",
    "    }   \n",
    "build_embeedings_CWGAN(cfg.EMBEDDING_TEXT_MODELS_PATH,TextEncoder(len(stanData.dict_word2idx)),dataloader,cfg.EMBEDDING_SAVE_PATH,cfg.DEVICE)\n"
   ]
  }
 ],
 "metadata": {
  "kernelspec": {
   "display_name": "Python 3",
   "language": "python",
   "name": "python3"
  },
  "language_info": {
   "codemirror_mode": {
    "name": "ipython",
    "version": 3
   },
   "file_extension": ".py",
   "mimetype": "text/x-python",
   "name": "python",
   "nbconvert_exporter": "python",
   "pygments_lexer": "ipython3",
   "version": "3.11.4"
  },
  "orig_nbformat": 4
 },
 "nbformat": 4,
 "nbformat_minor": 2
}
