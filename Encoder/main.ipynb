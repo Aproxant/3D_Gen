{
 "cells": [
  {
   "cell_type": "code",
   "execution_count": 1,
   "metadata": {},
   "outputs": [
    {
     "name": "stdout",
     "output_type": "stream",
     "text": [
      "cpu\n"
     ]
    }
   ],
   "source": [
    "import pandas as pd\n",
    "import numpy as np\n",
    "from tqdm import tqdm\n",
    "from torch.utils.data import DataLoader\n",
    "import torch\n",
    "import trimesh\n",
    "from functools import partial\n",
    "import ssl\n",
    "from Solvers import SolverEmbedding,Loss\n",
    "from Models.EncoderModels import TextEncoder, ShapeEncoder\n",
    "from config import cfg\n",
    "from dataEmbedding.dataEmbedding import Read_Load_BuildBatch\n",
    "from dataEmbedding.dataEmbeddingLoader import GenerateDataLoader,check_dataset,collate_embedding\n",
    "if torch.backends.mps.is_available():\n",
    "    device = torch.device(\"mps\")\n",
    "elif torch.cuda.is_available():\n",
    "    device=torch.device(\"cuda\")\n",
    "else:\n",
    "    device=torch.device(\"cpu\")\n",
    "\n",
    "device=cfg.DEVICE\n",
    "print(device)\n",
    "\n",
    "#for mac os fix \n",
    "ssl._create_default_https_context = ssl._create_unverified_context"
   ]
  },
  {
   "cell_type": "code",
   "execution_count": 2,
   "metadata": {},
   "outputs": [],
   "source": [
    "#primiData = Read_Load_BuildBatch('/primitives',batchSize,'primitives')\n",
    "stanData=Read_Load_BuildBatch(cfg.EMBEDDING_VOXEL_FOLDER,cfg.EMBEDDING_BATCH_SIZE)\n"
   ]
  },
  {
   "cell_type": "code",
   "execution_count": 3,
   "metadata": {},
   "outputs": [
    {
     "name": "stdout",
     "output_type": "stream",
     "text": [
      "Median of list is : 14.0\n",
      "Mean: 16.307937873199133\n"
     ]
    }
   ],
   "source": [
    "stanData.wordlens.sort()\n",
    "mid = len(stanData.wordlens) // 2\n",
    "res = (stanData.wordlens[mid] + stanData.wordlens[~mid]) / 2\n",
    "print(\"Median of list is : \" + str(res))\n",
    "print(\"Mean: \"+ str(sum(stanData.wordlens)/len(stanData.wordlens)))"
   ]
  },
  {
   "cell_type": "code",
   "execution_count": 3,
   "metadata": {},
   "outputs": [],
   "source": [
    "train_dataset = GenerateDataLoader(stanData.data_agg_train,stanData.data_dir,stanData.dict_word2idx,'train')\n",
    "\n",
    "val_dataset = GenerateDataLoader(stanData.data_agg_val,stanData.data_dir,stanData.dict_word2idx,'val')\n",
    "\n",
    "test_dataset=GenerateDataLoader(stanData.data_agg_test,stanData.data_dir,stanData.dict_word2idx,'test')\n",
    "\n",
    "dataloader = {\n",
    "            'train': DataLoader(\n",
    "                train_dataset, \n",
    "                batch_size=cfg.EMBEDDING_BATCH_SIZE * 2,              \n",
    "                drop_last=check_dataset(train_dataset, cfg.EMBEDDING_BATCH_SIZE * 2),\n",
    "                collate_fn=collate_embedding,\n",
    "                num_workers=4\n",
    "            ),\n",
    "            'val': DataLoader(\n",
    "                val_dataset, \n",
    "                batch_size=cfg.EMBEDDING_BATCH_SIZE*2,\n",
    "                collate_fn=collate_embedding,\n",
    "                num_workers=4\n",
    "            ),\n",
    "            'test': DataLoader(\n",
    "                test_dataset, \n",
    "                batch_size=cfg.EMBEDDING_BATCH_SIZE*2,\n",
    "                collate_fn=collate_embedding\n",
    "                #num_workers=2\n",
    "            )\n",
    "    }       \n"
   ]
  },
  {
   "cell_type": "code",
   "execution_count": null,
   "metadata": {},
   "outputs": [],
   "source": [
    "for iter,(_,labels,texts,_,shapes) in enumerate(dataloader['train']):\n",
    "    \n",
    "    batch_size = shapes.size(0)\n",
    "    texts = texts.to(device)\n",
    "    text_labels = labels.to(device)\n",
    "\n",
    "    shapes = shapes.to(device).index_select(0, torch.LongTensor([i * 2 for i in range(batch_size // 2)]).to(device))\n",
    "    shape_labels = labels.to(device).index_select(0, torch.LongTensor([i * 2 for i in range(batch_size // 2)]).to(device))\n",
    "        \n",
    "\n",
    "    #s = ShapeModel(shapes)\n",
    "    \n",
    "    print(texts)\n",
    "    #print(texts.shape)\n",
    "\n",
    "    if iter==5:\n",
    "      break"
   ]
  },
  {
   "cell_type": "code",
   "execution_count": 4,
   "metadata": {},
   "outputs": [],
   "source": [
    "criterion={\n",
    "        'walker': Loss.RoundTripLoss(device=device),\n",
    "        'visit': Loss.AssociationLoss(device=device),\n",
    "        #'metric': Loss.SmoothedMetricLoss(device=device)\n",
    "        'metric': Loss.InstanceMetricLoss()\n",
    "        }"
   ]
  },
  {
   "cell_type": "code",
   "execution_count": 5,
   "metadata": {},
   "outputs": [],
   "source": [
    "ShapeModel=ShapeEncoder()\n",
    "ShapeModel=ShapeModel.to(device)\n",
    "TextModel=TextEncoder(len(stanData.dict_word2idx))\n",
    "TextModel=TextModel.to(device)\n",
    "optimizer = torch.optim.Adam(list(ShapeModel.parameters()) + list(TextModel.parameters()), lr=cfg.EMBEDDING_LR, weight_decay=cfg.EMBEDDING_WEIGHT_DC)\n",
    "history=SolverEmbedding.Solver(TextModel,ShapeModel,dataloader,optimizer,criterion,cfg.EMBEDDING_BATCH_SIZE,device)"
   ]
  },
  {
   "cell_type": "code",
   "execution_count": 6,
   "metadata": {},
   "outputs": [
    {
     "name": "stdout",
     "output_type": "stream",
     "text": [
      "Epoch [1/4] starting...\n",
      "\n",
      "Training...\n"
     ]
    },
    {
     "data": {
      "application/vnd.jupyter.widget-view+json": {
       "model_id": "c4282d11c9914114a9b50f41315fd1b8",
       "version_major": 2,
       "version_minor": 0
      },
      "text/plain": [
       "0it [00:00, ?it/s]"
      ]
     },
     "metadata": {},
     "output_type": "display_data"
    },
    {
     "name": "stdout",
     "output_type": "stream",
     "text": [
      "Validating...\n",
      "\n"
     ]
    },
    {
     "data": {
      "application/vnd.jupyter.widget-view+json": {
       "model_id": "e0f99c4dc4cf4a38b8d879955bad310a",
       "version_major": 2,
       "version_minor": 0
      },
      "text/plain": [
       "0it [00:00, ?it/s]"
      ]
     },
     "metadata": {},
     "output_type": "display_data"
    },
    {
     "name": "stdout",
     "output_type": "stream",
     "text": [
      "epoch [1/4] done...\n",
      "------------------------summary------------------------\n",
      "[train] total_loss: 77.177933\n",
      "[val]   total_loss: 84.423693\n",
      "[train] walker_loss_tst: 5.545174, walker_loss_sts: 4.852016\n",
      "[val]   walker_loss_tst: 5.544910, walker_loss_sts: 4.852371\n",
      "[train] visit_loss_ts: 1.213008, visit_loss_st: 1.386294\n",
      "[val]   visit_loss_ts: 1.213294, visit_loss_st: 1.386295\n",
      "[train] metric_loss_st: 42.787445, metric_loss_tt: 21.393993\n",
      "[val]   metric_loss_st: 42.789116, metric_loss_tt: 21.393992\n",
      "[train] shape_norm_penalty: 0.000000, text_norm_penalty: 0.000000\n",
      "[val]   shape_norm_penalty: 7.243717, text_norm_penalty: 0.000000\n",
      "\n",
      "Evaluating...\n"
     ]
    },
    {
     "data": {
      "application/vnd.jupyter.widget-view+json": {
       "model_id": "0b663e7ced20446d995e12d6c5f48e9c",
       "version_major": 2,
       "version_minor": 0
      },
      "text/plain": [
       "0it [00:00, ?it/s]"
      ]
     },
     "metadata": {},
     "output_type": "display_data"
    },
    {
     "name": "stdout",
     "output_type": "stream",
     "text": [
      "\n",
      "Number of embedding: 30674\n",
      "Number of shape embeddings: 1490, number of text embeddings: 29184\n",
      "Dimensionality of embedding: 128\n",
      "Evaluation mode: t2t\n",
      "\n",
      "min embedding val: -0.09974249452352524\n",
      "max embedding val: 0.1125732958316803\n",
      "mean embedding (abs) val: 0.03281861741604581\n",
      "Number of models : 1490\n",
      "\n",
      "Example model IDs:\n",
      "933096cbd0f7ef0aa73562d75299fcd8\n",
      "b11993c9e7d9ab970077d80217bffad\n",
      "9271bb0cab9365d44b3c42e318f3affc\n",
      "c5178a8a0da618a25d78ff7fb413274d\n",
      "9e55b1135ddf93211c8d18742f91c015\n",
      "63d92bf1f175a75a25ffbad401072b4d\n",
      "b192cda468f9390aa3f22b4b00de6dfb\n",
      "c755eeaa4a588fcba9126dd5adc92c1e\n",
      "738395f54b301d80b1f5d603f931c1aa\n",
      "62a4f3c24bc69f593eff95e5c4b79279\n",
      "\n",
      "Using unnormalized cosine distance\n",
      "Nearest neighbors on block 1\n",
      "Nearest neighbors on block 2\n",
      "Nearest neighbors on block 3\n",
      "Nearest neighbors on block 4\n",
      "Nearest neighbors on block 5\n",
      "Nearest neighbors on block 6\n",
      "Nearest neighbors on block 7\n",
      "Nearest neighbors on block 8\n",
      "Nearest neighbors on block 9\n",
      "Nearest neighbors on block 10\n",
      "Computing precision recall.\n",
      "     k: precision recall recall_rate ndcg\n",
      "pr @ 1: 0.0005482456140350877 2.741228070175439e-05 0.0005482456140350877 0.0005482456140350877\n",
      "pr @ 2: 0.0006167763157894736 6.167763157894738e-05 0.0006853070175438596 0.0006012682027459623\n",
      "pr @ 3: 0.0005939327485380117 8.908991228070173e-05 0.0006853070175438596 0.0005888270163056285\n",
      "pr @ 4: 0.0005825109649122807 0.00011650219298245615 0.0006853070175438596 0.0005820041651234553\n",
      "pr @ 5: 0.0005139802631578948 0.0001284950657894737 0.0007881030701754386 0.0005371127796507346\n",
      "pr @ 6: 0.0004968475877192982 0.00014905427631578953 0.0010622258771929825 0.0005235390456543317\n",
      "pr @ 7: 0.0004601347117794486 0.00016104714912280708 0.0012335526315789473 0.0004975465939740318\n",
      "pr @ 8: 0.00043688322368421053 0.00017475328947368432 0.0012335526315789473 0.0004797185959899642\n",
      "pr @ 9: 0.00046448586744639374 0.00020901864035087725 0.001644736842105263 0.0004942651611524562\n",
      "pr @ 10: 0.0004660087719298246 0.0002330043859649123 0.001644736842105263 0.0004933394628507447\n",
      "pr @ 11: 0.0004859449760765551 0.00026726973684210544 0.001644736842105263 0.0005044432409362615\n",
      "pr @ 12: 0.00047971491228070194 0.00028782894736842113 0.001644736842105263 0.0004994945991258934\n",
      "pr @ 13: 0.0005166160593792172 0.00033580043859649113 0.0026041666666666665 0.0005220516442173442\n",
      "pr @ 14: 0.0005482456140350874 0.0003837719298245609 0.0027412280701754384 0.000542002368210117\n",
      "pr @ 15: 0.0005665204678362569 0.000424890350877193 0.0027412280701754384 0.0005539606264869469\n",
      "pr @ 16: 0.0005739446271929825 0.00045915570175438555 0.0027412280701754384 0.0005592233145741028\n",
      "pr @ 17: 0.0006288699690402462 0.0005065561038011686 0.003974780701754386 0.0005950659583344415\n",
      "pr @ 18: 0.0006776924951267042 0.0005539565058479528 0.004111842105263158 0.0006277098159605216\n",
      "pr @ 19: 0.0007213758079409042 0.000601356907894736 0.004111842105263158 0.000657596339343502\n",
      "pr @ 20: 0.0007538377192982438 0.0006419042397660809 0.004111842105263158 0.0006806541131823832\n",
      "saving models...\n",
      "\n",
      "Epoch [2/4] starting...\n",
      "\n",
      "Training...\n"
     ]
    },
    {
     "data": {
      "application/vnd.jupyter.widget-view+json": {
       "model_id": "6de4f83dca634cf49b110b764252cc6b",
       "version_major": 2,
       "version_minor": 0
      },
      "text/plain": [
       "0it [00:00, ?it/s]"
      ]
     },
     "metadata": {},
     "output_type": "display_data"
    },
    {
     "name": "stdout",
     "output_type": "stream",
     "text": [
      "Validating...\n",
      "\n"
     ]
    },
    {
     "data": {
      "application/vnd.jupyter.widget-view+json": {
       "model_id": "8cb784203d124861a488e6ce204afe5d",
       "version_major": 2,
       "version_minor": 0
      },
      "text/plain": [
       "0it [00:00, ?it/s]"
      ]
     },
     "metadata": {},
     "output_type": "display_data"
    }
   ],
   "source": [
    "history.train(cfg.EMBEDDING_EPOCH_NR,stanData.dict_idx2word)"
   ]
  }
 ],
 "metadata": {
  "kernelspec": {
   "display_name": "Python 3",
   "language": "python",
   "name": "python3"
  },
  "language_info": {
   "codemirror_mode": {
    "name": "ipython",
    "version": 3
   },
   "file_extension": ".py",
   "mimetype": "text/x-python",
   "name": "python",
   "nbconvert_exporter": "python",
   "pygments_lexer": "ipython3",
   "version": "3.11.4"
  },
  "orig_nbformat": 4
 },
 "nbformat": 4,
 "nbformat_minor": 2
}
